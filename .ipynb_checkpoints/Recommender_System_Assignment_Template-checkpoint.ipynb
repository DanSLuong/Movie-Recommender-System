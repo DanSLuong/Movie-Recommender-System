{
 "cells": [
  {
   "cell_type": "markdown",
   "metadata": {},
   "source": [
    "# Building Movie Recommender System"
   ]
  },
  {
   "cell_type": "markdown",
   "metadata": {},
   "source": [
    "### Steps of the Project\n",
    " - Import Required Libraries\n",
    " - Import data\n",
    " - Visualize the data (__Optional__)\n",
    " - Create a Recommender Model\n",
    "     - Prepare dataset (<i>K-fold cross validation for train-test-validation dataset splitting</i>)\n",
    " - Apply Recommender Algorithms\n",
    "     - Popularity Recommender Model\n",
    "     - Collaborative Filtering Model\n",
    "     - Item Similarity Filtering Model\n",
    " - Get Top-K Recommendations for three models\n",
    " - Evaluate your models : RMSE (Root Mean Squared Error)\n",
    " - Get Confusion Matrix Results : Precision/Recall metrics\n",
    " - Report the results\n",
    "     - Which model is the best fit for this dataset?\n",
    "     - What are the top-k recommendations for each model?\n",
    "     - Evaluation Results : Which model has the best performance for recommending?"
   ]
  },
  {
   "cell_type": "markdown",
   "metadata": {},
   "source": [
    "### Import Required Libraries\n",
    "\n",
    "---\n",
    "\n",
    "Since you will use Python programming language to implement this project, Python ecosystem has many recommender system libraries that you can use. [Turi Create](https://github.com/apple/turicreate) is one of them and highly recommended library that you can easily use for this project."
   ]
  },
  {
   "cell_type": "code",
   "execution_count": 1,
   "metadata": {},
   "outputs": [
    {
     "name": "stderr",
     "output_type": "stream",
     "text": [
      "/anaconda2/lib/python2.7/site-packages/h5py/__init__.py:36: FutureWarning: Conversion of the second argument of issubdtype from `float` to `np.floating` is deprecated. In future, it will be treated as `np.float64 == np.dtype(float).type`.\n",
      "  from ._conv import register_converters as _register_converters\n"
     ]
    }
   ],
   "source": [
    "import pandas as pd\n",
    "import turicreate as tc"
   ]
  },
  {
   "cell_type": "markdown",
   "metadata": {},
   "source": [
    "### Visualize Dataset\n",
    "\n",
    "---\n",
    "\n",
    "Sometimes to understand the big picture of the dataset, you may want to check some visualizations to decide which algorithm would fit to solve your problem."
   ]
  },
  {
   "cell_type": "code",
   "execution_count": 2,
   "metadata": {},
   "outputs": [],
   "source": [
    "ratingsCols = ['userID', 'movieID', 'rating']\n",
    "ratings = pd.read_csv('ml-100k/u.data', sep='\\t', names=ratingsCols, usecols=range(3))\n",
    "\n",
    "moviesCols = ['movieID', 'title']\n",
    "movies = pd.read_csv('ml-100k/u.item', sep='|', names=moviesCols, usecols=range(2))\n"
   ]
  },
  {
   "cell_type": "markdown",
   "metadata": {},
   "source": [
    "### Import Dataset\n",
    "\n",
    "---\n",
    "\n",
    "Movie Review [dataset](https://grouplens.org/datasets/movielens/100k/) will be used for this project. After you download the dataset, you can import to your project by using [Pandas](http://pandas.pydata.org/) Python Data Analysis library. For more info check [here](https://pandas.pydata.org/pandas-docs/stable/io.html)."
   ]
  },
  {
   "cell_type": "code",
   "execution_count": 3,
   "metadata": {},
   "outputs": [
    {
     "data": {
      "text/html": [
       "<div>\n",
       "<style scoped>\n",
       "    .dataframe tbody tr th:only-of-type {\n",
       "        vertical-align: middle;\n",
       "    }\n",
       "\n",
       "    .dataframe tbody tr th {\n",
       "        vertical-align: top;\n",
       "    }\n",
       "\n",
       "    .dataframe thead th {\n",
       "        text-align: right;\n",
       "    }\n",
       "</style>\n",
       "<table border=\"1\" class=\"dataframe\">\n",
       "  <thead>\n",
       "    <tr style=\"text-align: right;\">\n",
       "      <th></th>\n",
       "      <th>movieID</th>\n",
       "      <th>title</th>\n",
       "      <th>userID</th>\n",
       "      <th>rating</th>\n",
       "    </tr>\n",
       "  </thead>\n",
       "  <tbody>\n",
       "    <tr>\n",
       "      <th>0</th>\n",
       "      <td>1</td>\n",
       "      <td>Toy Story (1995)</td>\n",
       "      <td>308</td>\n",
       "      <td>4</td>\n",
       "    </tr>\n",
       "    <tr>\n",
       "      <th>1</th>\n",
       "      <td>1</td>\n",
       "      <td>Toy Story (1995)</td>\n",
       "      <td>287</td>\n",
       "      <td>5</td>\n",
       "    </tr>\n",
       "    <tr>\n",
       "      <th>2</th>\n",
       "      <td>1</td>\n",
       "      <td>Toy Story (1995)</td>\n",
       "      <td>148</td>\n",
       "      <td>4</td>\n",
       "    </tr>\n",
       "    <tr>\n",
       "      <th>3</th>\n",
       "      <td>1</td>\n",
       "      <td>Toy Story (1995)</td>\n",
       "      <td>280</td>\n",
       "      <td>4</td>\n",
       "    </tr>\n",
       "    <tr>\n",
       "      <th>4</th>\n",
       "      <td>1</td>\n",
       "      <td>Toy Story (1995)</td>\n",
       "      <td>66</td>\n",
       "      <td>3</td>\n",
       "    </tr>\n",
       "    <tr>\n",
       "      <th>5</th>\n",
       "      <td>1</td>\n",
       "      <td>Toy Story (1995)</td>\n",
       "      <td>5</td>\n",
       "      <td>4</td>\n",
       "    </tr>\n",
       "    <tr>\n",
       "      <th>6</th>\n",
       "      <td>1</td>\n",
       "      <td>Toy Story (1995)</td>\n",
       "      <td>109</td>\n",
       "      <td>4</td>\n",
       "    </tr>\n",
       "    <tr>\n",
       "      <th>7</th>\n",
       "      <td>1</td>\n",
       "      <td>Toy Story (1995)</td>\n",
       "      <td>181</td>\n",
       "      <td>3</td>\n",
       "    </tr>\n",
       "    <tr>\n",
       "      <th>8</th>\n",
       "      <td>1</td>\n",
       "      <td>Toy Story (1995)</td>\n",
       "      <td>95</td>\n",
       "      <td>5</td>\n",
       "    </tr>\n",
       "    <tr>\n",
       "      <th>9</th>\n",
       "      <td>1</td>\n",
       "      <td>Toy Story (1995)</td>\n",
       "      <td>268</td>\n",
       "      <td>3</td>\n",
       "    </tr>\n",
       "  </tbody>\n",
       "</table>\n",
       "</div>"
      ],
      "text/plain": [
       "   movieID             title  userID  rating\n",
       "0        1  Toy Story (1995)     308       4\n",
       "1        1  Toy Story (1995)     287       5\n",
       "2        1  Toy Story (1995)     148       4\n",
       "3        1  Toy Story (1995)     280       4\n",
       "4        1  Toy Story (1995)      66       3\n",
       "5        1  Toy Story (1995)       5       4\n",
       "6        1  Toy Story (1995)     109       4\n",
       "7        1  Toy Story (1995)     181       3\n",
       "8        1  Toy Story (1995)      95       5\n",
       "9        1  Toy Story (1995)     268       3"
      ]
     },
     "execution_count": 3,
     "metadata": {},
     "output_type": "execute_result"
    }
   ],
   "source": [
    "analysis = pd.merge(movies, ratings)\n",
    "analysis.head(10)"
   ]
  },
  {
   "cell_type": "markdown",
   "metadata": {},
   "source": [
    "### Create a Recommender Model\n",
    "\n",
    "---\n",
    "A recommender system allows you to build personalized recommendation systems to users. There are many methods to do this. In this project, you will need to use three of these methods which are __popularity-based recommender model__ , __factorization recommenders model__ , and __item similarity model__ . \n",
    "\n",
    "[Turi](https://github.com/apple/turicreate) has easy-to-implement recommender models. You can use Turi's recommender models for your dataset. For more information check [here](https://apple.github.io/turicreate/docs/api/turicreate.toolkits.recommender.html#creating-a-recommender)\n",
    "<br>\n",
    "\n",
    "The steps of building a recommender system are;\n",
    " - Do not forget to convert your dataset to [SFrame](https://apple.github.io/turicreate/docs/api/generated/turicreate.SFrame.html#turicreate.SFrame) type. Also split the dataset for training, testing, and validation processes. [Write code here](#Convert-dataset-to-SFrame)\n",
    " - Create and Apply each model to your dataset. (In this assignment, you will use three different methods as listed above) [Write code here](#Create-and-Apply-Recommender-Algorithms).\n",
    " - Find top k recommendations. (Display top k=5 recommendations and check the scores of them.)[Write code here](#Get-Top-K-Recommendations-for-Three-Models)\n",
    " - Evaluate your model. (Check your model with confusion matrix metrics and find how accurate your model is to recommend movies to users.)[Write code here](#Evaluate-your-model)"
   ]
  },
  {
   "cell_type": "markdown",
   "metadata": {},
   "source": [
    "### Convert dataset to SFrame"
   ]
  },
  {
   "cell_type": "code",
   "execution_count": 25,
   "metadata": {},
   "outputs": [
    {
     "data": {
      "text/html": [
       "<pre>Finished parsing file /Users/akabou/Desktop/Google Drive/School/CS 4319 - Statistics and Machine Learning/Final Project/RecommenderSystemAsg/ml-100k/u1.base</pre>"
      ],
      "text/plain": [
       "Finished parsing file /Users/akabou/Desktop/Google Drive/School/CS 4319 - Statistics and Machine Learning/Final Project/RecommenderSystemAsg/ml-100k/u1.base"
      ]
     },
     "metadata": {},
     "output_type": "display_data"
    },
    {
     "data": {
      "text/html": [
       "<pre>Parsing completed. Parsed 100 lines in 0.052515 secs.</pre>"
      ],
      "text/plain": [
       "Parsing completed. Parsed 100 lines in 0.052515 secs."
      ]
     },
     "metadata": {},
     "output_type": "display_data"
    },
    {
     "name": "stdout",
     "output_type": "stream",
     "text": [
      "------------------------------------------------------\n",
      "Inferred types from first 100 line(s) of file as \n",
      "column_type_hints=[int,int,int]\n",
      "If parsing fails due to incorrect types, you can correct\n",
      "the inferred type list above and pass it to read_csv in\n",
      "the column_type_hints argument\n",
      "------------------------------------------------------\n"
     ]
    },
    {
     "data": {
      "text/html": [
       "<pre>Finished parsing file /Users/akabou/Desktop/Google Drive/School/CS 4319 - Statistics and Machine Learning/Final Project/RecommenderSystemAsg/ml-100k/u1.base</pre>"
      ],
      "text/plain": [
       "Finished parsing file /Users/akabou/Desktop/Google Drive/School/CS 4319 - Statistics and Machine Learning/Final Project/RecommenderSystemAsg/ml-100k/u1.base"
      ]
     },
     "metadata": {},
     "output_type": "display_data"
    },
    {
     "data": {
      "text/html": [
       "<pre>Parsing completed. Parsed 80000 lines in 0.038189 secs.</pre>"
      ],
      "text/plain": [
       "Parsing completed. Parsed 80000 lines in 0.038189 secs."
      ]
     },
     "metadata": {},
     "output_type": "display_data"
    },
    {
     "data": {
      "text/html": [
       "<pre>Finished parsing file /Users/akabou/Desktop/Google Drive/School/CS 4319 - Statistics and Machine Learning/Final Project/RecommenderSystemAsg/ml-100k/u.item</pre>"
      ],
      "text/plain": [
       "Finished parsing file /Users/akabou/Desktop/Google Drive/School/CS 4319 - Statistics and Machine Learning/Final Project/RecommenderSystemAsg/ml-100k/u.item"
      ]
     },
     "metadata": {},
     "output_type": "display_data"
    },
    {
     "data": {
      "text/html": [
       "<pre>Parsing completed. Parsed 100 lines in 0.012036 secs.</pre>"
      ],
      "text/plain": [
       "Parsing completed. Parsed 100 lines in 0.012036 secs."
      ]
     },
     "metadata": {},
     "output_type": "display_data"
    },
    {
     "name": "stdout",
     "output_type": "stream",
     "text": [
      "------------------------------------------------------\n",
      "Inferred types from first 100 line(s) of file as \n",
      "column_type_hints=[int,str]\n",
      "If parsing fails due to incorrect types, you can correct\n",
      "the inferred type list above and pass it to read_csv in\n",
      "the column_type_hints argument\n",
      "------------------------------------------------------\n"
     ]
    },
    {
     "data": {
      "text/html": [
       "<pre>Finished parsing file /Users/akabou/Desktop/Google Drive/School/CS 4319 - Statistics and Machine Learning/Final Project/RecommenderSystemAsg/ml-100k/u.item</pre>"
      ],
      "text/plain": [
       "Finished parsing file /Users/akabou/Desktop/Google Drive/School/CS 4319 - Statistics and Machine Learning/Final Project/RecommenderSystemAsg/ml-100k/u.item"
      ]
     },
     "metadata": {},
     "output_type": "display_data"
    },
    {
     "data": {
      "text/html": [
       "<pre>Parsing completed. Parsed 1682 lines in 0.012483 secs.</pre>"
      ],
      "text/plain": [
       "Parsing completed. Parsed 1682 lines in 0.012483 secs."
      ]
     },
     "metadata": {},
     "output_type": "display_data"
    },
    {
     "data": {
      "text/html": [
       "<pre>Finished parsing file /Users/akabou/Desktop/Google Drive/School/CS 4319 - Statistics and Machine Learning/Final Project/RecommenderSystemAsg/ml-100k/u1.test</pre>"
      ],
      "text/plain": [
       "Finished parsing file /Users/akabou/Desktop/Google Drive/School/CS 4319 - Statistics and Machine Learning/Final Project/RecommenderSystemAsg/ml-100k/u1.test"
      ]
     },
     "metadata": {},
     "output_type": "display_data"
    },
    {
     "data": {
      "text/html": [
       "<pre>Parsing completed. Parsed 100 lines in 0.03648 secs.</pre>"
      ],
      "text/plain": [
       "Parsing completed. Parsed 100 lines in 0.03648 secs."
      ]
     },
     "metadata": {},
     "output_type": "display_data"
    },
    {
     "name": "stdout",
     "output_type": "stream",
     "text": [
      "------------------------------------------------------\n",
      "Inferred types from first 100 line(s) of file as \n",
      "column_type_hints=[int,int,int]\n",
      "If parsing fails due to incorrect types, you can correct\n",
      "the inferred type list above and pass it to read_csv in\n",
      "the column_type_hints argument\n",
      "------------------------------------------------------\n"
     ]
    },
    {
     "data": {
      "text/html": [
       "<pre>Finished parsing file /Users/akabou/Desktop/Google Drive/School/CS 4319 - Statistics and Machine Learning/Final Project/RecommenderSystemAsg/ml-100k/u1.test</pre>"
      ],
      "text/plain": [
       "Finished parsing file /Users/akabou/Desktop/Google Drive/School/CS 4319 - Statistics and Machine Learning/Final Project/RecommenderSystemAsg/ml-100k/u1.test"
      ]
     },
     "metadata": {},
     "output_type": "display_data"
    },
    {
     "data": {
      "text/html": [
       "<pre>Parsing completed. Parsed 20000 lines in 0.014177 secs.</pre>"
      ],
      "text/plain": [
       "Parsing completed. Parsed 20000 lines in 0.014177 secs."
      ]
     },
     "metadata": {},
     "output_type": "display_data"
    },
    {
     "data": {
      "text/html": [
       "<div style=\"max-height:1000px;max-width:1500px;overflow:auto;\"><table frame=\"box\" rules=\"cols\">\n",
       "    <tr>\n",
       "        <th style=\"padding-left: 1em; padding-right: 1em; text-align: center\">movie_id</th>\n",
       "        <th style=\"padding-left: 1em; padding-right: 1em; text-align: center\">title</th>\n",
       "        <th style=\"padding-left: 1em; padding-right: 1em; text-align: center\">user_id</th>\n",
       "        <th style=\"padding-left: 1em; padding-right: 1em; text-align: center\">rating</th>\n",
       "    </tr>\n",
       "    <tr>\n",
       "        <td style=\"padding-left: 1em; padding-right: 1em; text-align: center; vertical-align: top\">1</td>\n",
       "        <td style=\"padding-left: 1em; padding-right: 1em; text-align: center; vertical-align: top\">Toy Story (1995)</td>\n",
       "        <td style=\"padding-left: 1em; padding-right: 1em; text-align: center; vertical-align: top\">6</td>\n",
       "        <td style=\"padding-left: 1em; padding-right: 1em; text-align: center; vertical-align: top\">5</td>\n",
       "    </tr>\n",
       "    <tr>\n",
       "        <td style=\"padding-left: 1em; padding-right: 1em; text-align: center; vertical-align: top\">1</td>\n",
       "        <td style=\"padding-left: 1em; padding-right: 1em; text-align: center; vertical-align: top\">Toy Story (1995)</td>\n",
       "        <td style=\"padding-left: 1em; padding-right: 1em; text-align: center; vertical-align: top\">10</td>\n",
       "        <td style=\"padding-left: 1em; padding-right: 1em; text-align: center; vertical-align: top\">3</td>\n",
       "    </tr>\n",
       "    <tr>\n",
       "        <td style=\"padding-left: 1em; padding-right: 1em; text-align: center; vertical-align: top\">1</td>\n",
       "        <td style=\"padding-left: 1em; padding-right: 1em; text-align: center; vertical-align: top\">Toy Story (1995)</td>\n",
       "        <td style=\"padding-left: 1em; padding-right: 1em; text-align: center; vertical-align: top\">12</td>\n",
       "        <td style=\"padding-left: 1em; padding-right: 1em; text-align: center; vertical-align: top\">5</td>\n",
       "    </tr>\n",
       "    <tr>\n",
       "        <td style=\"padding-left: 1em; padding-right: 1em; text-align: center; vertical-align: top\">1</td>\n",
       "        <td style=\"padding-left: 1em; padding-right: 1em; text-align: center; vertical-align: top\">Toy Story (1995)</td>\n",
       "        <td style=\"padding-left: 1em; padding-right: 1em; text-align: center; vertical-align: top\">14</td>\n",
       "        <td style=\"padding-left: 1em; padding-right: 1em; text-align: center; vertical-align: top\">5</td>\n",
       "    </tr>\n",
       "    <tr>\n",
       "        <td style=\"padding-left: 1em; padding-right: 1em; text-align: center; vertical-align: top\">1</td>\n",
       "        <td style=\"padding-left: 1em; padding-right: 1em; text-align: center; vertical-align: top\">Toy Story (1995)</td>\n",
       "        <td style=\"padding-left: 1em; padding-right: 1em; text-align: center; vertical-align: top\">17</td>\n",
       "        <td style=\"padding-left: 1em; padding-right: 1em; text-align: center; vertical-align: top\">3</td>\n",
       "    </tr>\n",
       "    <tr>\n",
       "        <td style=\"padding-left: 1em; padding-right: 1em; text-align: center; vertical-align: top\">1</td>\n",
       "        <td style=\"padding-left: 1em; padding-right: 1em; text-align: center; vertical-align: top\">Toy Story (1995)</td>\n",
       "        <td style=\"padding-left: 1em; padding-right: 1em; text-align: center; vertical-align: top\">20</td>\n",
       "        <td style=\"padding-left: 1em; padding-right: 1em; text-align: center; vertical-align: top\">4</td>\n",
       "    </tr>\n",
       "    <tr>\n",
       "        <td style=\"padding-left: 1em; padding-right: 1em; text-align: center; vertical-align: top\">1</td>\n",
       "        <td style=\"padding-left: 1em; padding-right: 1em; text-align: center; vertical-align: top\">Toy Story (1995)</td>\n",
       "        <td style=\"padding-left: 1em; padding-right: 1em; text-align: center; vertical-align: top\">23</td>\n",
       "        <td style=\"padding-left: 1em; padding-right: 1em; text-align: center; vertical-align: top\">4</td>\n",
       "    </tr>\n",
       "    <tr>\n",
       "        <td style=\"padding-left: 1em; padding-right: 1em; text-align: center; vertical-align: top\">1</td>\n",
       "        <td style=\"padding-left: 1em; padding-right: 1em; text-align: center; vertical-align: top\">Toy Story (1995)</td>\n",
       "        <td style=\"padding-left: 1em; padding-right: 1em; text-align: center; vertical-align: top\">24</td>\n",
       "        <td style=\"padding-left: 1em; padding-right: 1em; text-align: center; vertical-align: top\">3</td>\n",
       "    </tr>\n",
       "    <tr>\n",
       "        <td style=\"padding-left: 1em; padding-right: 1em; text-align: center; vertical-align: top\">1</td>\n",
       "        <td style=\"padding-left: 1em; padding-right: 1em; text-align: center; vertical-align: top\">Toy Story (1995)</td>\n",
       "        <td style=\"padding-left: 1em; padding-right: 1em; text-align: center; vertical-align: top\">27</td>\n",
       "        <td style=\"padding-left: 1em; padding-right: 1em; text-align: center; vertical-align: top\">2</td>\n",
       "    </tr>\n",
       "    <tr>\n",
       "        <td style=\"padding-left: 1em; padding-right: 1em; text-align: center; vertical-align: top\">1</td>\n",
       "        <td style=\"padding-left: 1em; padding-right: 1em; text-align: center; vertical-align: top\">Toy Story (1995)</td>\n",
       "        <td style=\"padding-left: 1em; padding-right: 1em; text-align: center; vertical-align: top\">31</td>\n",
       "        <td style=\"padding-left: 1em; padding-right: 1em; text-align: center; vertical-align: top\">3</td>\n",
       "    </tr>\n",
       "</table>\n",
       "[10 rows x 4 columns]<br/>\n",
       "</div>"
      ],
      "text/plain": [
       "Columns:\n",
       "\tmovie_id\tint\n",
       "\ttitle\tstr\n",
       "\tuser_id\tint\n",
       "\trating\tint\n",
       "\n",
       "Rows: 10\n",
       "\n",
       "Data:\n",
       "+----------+------------------+---------+--------+\n",
       "| movie_id |      title       | user_id | rating |\n",
       "+----------+------------------+---------+--------+\n",
       "|    1     | Toy Story (1995) |    6    |   5    |\n",
       "|    1     | Toy Story (1995) |    10   |   3    |\n",
       "|    1     | Toy Story (1995) |    12   |   5    |\n",
       "|    1     | Toy Story (1995) |    14   |   5    |\n",
       "|    1     | Toy Story (1995) |    17   |   3    |\n",
       "|    1     | Toy Story (1995) |    20   |   4    |\n",
       "|    1     | Toy Story (1995) |    23   |   4    |\n",
       "|    1     | Toy Story (1995) |    24   |   3    |\n",
       "|    1     | Toy Story (1995) |    27   |   2    |\n",
       "|    1     | Toy Story (1995) |    31   |   3    |\n",
       "+----------+------------------+---------+--------+\n",
       "[10 rows x 4 columns]"
      ]
     },
     "execution_count": 25,
     "metadata": {},
     "output_type": "execute_result"
    }
   ],
   "source": [
    "ratings = tc.SFrame.read_csv('ml-100k/u1.base', header=False, delimiter='\\t', usecols=['X1','X2','X3'])\n",
    "ratings = ratings.rename({'X1':'movie_id', 'X2':'user_id', 'X3':'rating'})\n",
    "\n",
    "movies = data = tc.SFrame.read_csv('ml-100k/u.item', header=False, delimiter='|', usecols=['X1', 'X2'])\n",
    "movies = movies.rename({'X1':'movie_id', 'X2':'title'})\n",
    "analysis = movies.join(ratings)\n",
    "\n",
    "ratingsTest = tc.SFrame.read_csv('ml-100k/u1.test', header=False, delimiter='\\t', usecols=['X1','X2','X3'])\n",
    "ratingsTest = ratingsTest.rename({'X1':'movie_id', 'X2':'user_id', 'X3':'rating'})\n",
    "analysisTest = movies.join(ratingsTest)"
   ]
  },
  {
   "cell_type": "markdown",
   "metadata": {},
   "source": [
    "### Create and Apply Recommender Algorithms\n",
    "\n",
    "---\n",
    "Implement three recommender algorithms;\n",
    " - __Popularity Recommender Model__,\n",
    " - __Factorization Recommenders Model__,\n",
    " - __Item Similarity Filtering Model__ .\n",
    " \n",
    " \n"
   ]
  },
  {
   "cell_type": "code",
   "execution_count": 24,
   "metadata": {},
   "outputs": [
    {
     "data": {
      "text/html": [
       "<pre>Recsys training: model = item_similarity</pre>"
      ],
      "text/plain": [
       "Recsys training: model = item_similarity"
      ]
     },
     "metadata": {},
     "output_type": "display_data"
    },
    {
     "data": {
      "text/html": [
       "<pre>Warning: Ignoring columns title;</pre>"
      ],
      "text/plain": [
       "Warning: Ignoring columns title;"
      ]
     },
     "metadata": {},
     "output_type": "display_data"
    },
    {
     "data": {
      "text/html": [
       "<pre>    To use these columns in scoring predictions, use a model that allows the use of additional features.</pre>"
      ],
      "text/plain": [
       "    To use these columns in scoring predictions, use a model that allows the use of additional features."
      ]
     },
     "metadata": {},
     "output_type": "display_data"
    },
    {
     "data": {
      "text/html": [
       "<pre>Preparing data set.</pre>"
      ],
      "text/plain": [
       "Preparing data set."
      ]
     },
     "metadata": {},
     "output_type": "display_data"
    },
    {
     "data": {
      "text/html": [
       "<pre>    Data has 100000 observations with 1682 users and 943 items.</pre>"
      ],
      "text/plain": [
       "    Data has 100000 observations with 1682 users and 943 items."
      ]
     },
     "metadata": {},
     "output_type": "display_data"
    },
    {
     "data": {
      "text/html": [
       "<pre>    Data prepared in: 0.105553s</pre>"
      ],
      "text/plain": [
       "    Data prepared in: 0.105553s"
      ]
     },
     "metadata": {},
     "output_type": "display_data"
    },
    {
     "data": {
      "text/html": [
       "<pre>Training model from provided data.</pre>"
      ],
      "text/plain": [
       "Training model from provided data."
      ]
     },
     "metadata": {},
     "output_type": "display_data"
    },
    {
     "data": {
      "text/html": [
       "<pre>Gathering per-item and per-user statistics.</pre>"
      ],
      "text/plain": [
       "Gathering per-item and per-user statistics."
      ]
     },
     "metadata": {},
     "output_type": "display_data"
    },
    {
     "data": {
      "text/html": [
       "<pre>+--------------------------------+------------+</pre>"
      ],
      "text/plain": [
       "+--------------------------------+------------+"
      ]
     },
     "metadata": {},
     "output_type": "display_data"
    },
    {
     "data": {
      "text/html": [
       "<pre>| Elapsed Time (Item Statistics) | % Complete |</pre>"
      ],
      "text/plain": [
       "| Elapsed Time (Item Statistics) | % Complete |"
      ]
     },
     "metadata": {},
     "output_type": "display_data"
    },
    {
     "data": {
      "text/html": [
       "<pre>+--------------------------------+------------+</pre>"
      ],
      "text/plain": [
       "+--------------------------------+------------+"
      ]
     },
     "metadata": {},
     "output_type": "display_data"
    },
    {
     "data": {
      "text/html": [
       "<pre>| 2.194ms                        | 59.25      |</pre>"
      ],
      "text/plain": [
       "| 2.194ms                        | 59.25      |"
      ]
     },
     "metadata": {},
     "output_type": "display_data"
    },
    {
     "data": {
      "text/html": [
       "<pre>| 2.542ms                        | 100        |</pre>"
      ],
      "text/plain": [
       "| 2.542ms                        | 100        |"
      ]
     },
     "metadata": {},
     "output_type": "display_data"
    },
    {
     "data": {
      "text/html": [
       "<pre>+--------------------------------+------------+</pre>"
      ],
      "text/plain": [
       "+--------------------------------+------------+"
      ]
     },
     "metadata": {},
     "output_type": "display_data"
    },
    {
     "data": {
      "text/html": [
       "<pre>Setting up lookup tables.</pre>"
      ],
      "text/plain": [
       "Setting up lookup tables."
      ]
     },
     "metadata": {},
     "output_type": "display_data"
    },
    {
     "data": {
      "text/html": [
       "<pre>Processing data in one pass using dense lookup tables.</pre>"
      ],
      "text/plain": [
       "Processing data in one pass using dense lookup tables."
      ]
     },
     "metadata": {},
     "output_type": "display_data"
    },
    {
     "data": {
      "text/html": [
       "<pre>+-------------------------------------+------------------+-----------------+</pre>"
      ],
      "text/plain": [
       "+-------------------------------------+------------------+-----------------+"
      ]
     },
     "metadata": {},
     "output_type": "display_data"
    },
    {
     "data": {
      "text/html": [
       "<pre>| Elapsed Time (Constructing Lookups) | Total % Complete | Items Processed |</pre>"
      ],
      "text/plain": [
       "| Elapsed Time (Constructing Lookups) | Total % Complete | Items Processed |"
      ]
     },
     "metadata": {},
     "output_type": "display_data"
    },
    {
     "data": {
      "text/html": [
       "<pre>+-------------------------------------+------------------+-----------------+</pre>"
      ],
      "text/plain": [
       "+-------------------------------------+------------------+-----------------+"
      ]
     },
     "metadata": {},
     "output_type": "display_data"
    },
    {
     "data": {
      "text/html": [
       "<pre>| 5.095ms                             | 0                | 1               |</pre>"
      ],
      "text/plain": [
       "| 5.095ms                             | 0                | 1               |"
      ]
     },
     "metadata": {},
     "output_type": "display_data"
    },
    {
     "data": {
      "text/html": [
       "<pre>| 59.565ms                            | 100              | 943             |</pre>"
      ],
      "text/plain": [
       "| 59.565ms                            | 100              | 943             |"
      ]
     },
     "metadata": {},
     "output_type": "display_data"
    },
    {
     "data": {
      "text/html": [
       "<pre>+-------------------------------------+------------------+-----------------+</pre>"
      ],
      "text/plain": [
       "+-------------------------------------+------------------+-----------------+"
      ]
     },
     "metadata": {},
     "output_type": "display_data"
    },
    {
     "data": {
      "text/html": [
       "<pre>Finalizing lookup tables.</pre>"
      ],
      "text/plain": [
       "Finalizing lookup tables."
      ]
     },
     "metadata": {},
     "output_type": "display_data"
    },
    {
     "data": {
      "text/html": [
       "<pre>Generating candidate set for working with new users.</pre>"
      ],
      "text/plain": [
       "Generating candidate set for working with new users."
      ]
     },
     "metadata": {},
     "output_type": "display_data"
    },
    {
     "data": {
      "text/html": [
       "<pre>Finished training in 0.071116s</pre>"
      ],
      "text/plain": [
       "Finished training in 0.071116s"
      ]
     },
     "metadata": {},
     "output_type": "display_data"
    },
    {
     "data": {
      "text/html": [
       "<pre>Recsys training: model = factorization_recommender</pre>"
      ],
      "text/plain": [
       "Recsys training: model = factorization_recommender"
      ]
     },
     "metadata": {},
     "output_type": "display_data"
    },
    {
     "data": {
      "text/html": [
       "<pre>Preparing data set.</pre>"
      ],
      "text/plain": [
       "Preparing data set."
      ]
     },
     "metadata": {},
     "output_type": "display_data"
    },
    {
     "data": {
      "text/html": [
       "<pre>    Data has 100000 observations with 1682 users and 943 items.</pre>"
      ],
      "text/plain": [
       "    Data has 100000 observations with 1682 users and 943 items."
      ]
     },
     "metadata": {},
     "output_type": "display_data"
    },
    {
     "data": {
      "text/html": [
       "<pre>    Data prepared in: 0.153448s</pre>"
      ],
      "text/plain": [
       "    Data prepared in: 0.153448s"
      ]
     },
     "metadata": {},
     "output_type": "display_data"
    },
    {
     "data": {
      "text/html": [
       "<pre>Training factorization_recommender for recommendations.</pre>"
      ],
      "text/plain": [
       "Training factorization_recommender for recommendations."
      ]
     },
     "metadata": {},
     "output_type": "display_data"
    },
    {
     "data": {
      "text/html": [
       "<pre>+--------------------------------+--------------------------------------------------+----------+</pre>"
      ],
      "text/plain": [
       "+--------------------------------+--------------------------------------------------+----------+"
      ]
     },
     "metadata": {},
     "output_type": "display_data"
    },
    {
     "data": {
      "text/html": [
       "<pre>| Parameter                      | Description                                      | Value    |</pre>"
      ],
      "text/plain": [
       "| Parameter                      | Description                                      | Value    |"
      ]
     },
     "metadata": {},
     "output_type": "display_data"
    },
    {
     "data": {
      "text/html": [
       "<pre>+--------------------------------+--------------------------------------------------+----------+</pre>"
      ],
      "text/plain": [
       "+--------------------------------+--------------------------------------------------+----------+"
      ]
     },
     "metadata": {},
     "output_type": "display_data"
    },
    {
     "data": {
      "text/html": [
       "<pre>| num_factors                    | Factor Dimension                                 | 8        |</pre>"
      ],
      "text/plain": [
       "| num_factors                    | Factor Dimension                                 | 8        |"
      ]
     },
     "metadata": {},
     "output_type": "display_data"
    },
    {
     "data": {
      "text/html": [
       "<pre>| regularization                 | L2 Regularization on Factors                     | 1e-08    |</pre>"
      ],
      "text/plain": [
       "| regularization                 | L2 Regularization on Factors                     | 1e-08    |"
      ]
     },
     "metadata": {},
     "output_type": "display_data"
    },
    {
     "data": {
      "text/html": [
       "<pre>| solver                         | Solver used for training                         | adagrad  |</pre>"
      ],
      "text/plain": [
       "| solver                         | Solver used for training                         | adagrad  |"
      ]
     },
     "metadata": {},
     "output_type": "display_data"
    },
    {
     "data": {
      "text/html": [
       "<pre>| linear_regularization          | L2 Regularization on Linear Coefficients         | 1e-10    |</pre>"
      ],
      "text/plain": [
       "| linear_regularization          | L2 Regularization on Linear Coefficients         | 1e-10    |"
      ]
     },
     "metadata": {},
     "output_type": "display_data"
    },
    {
     "data": {
      "text/html": [
       "<pre>| max_iterations                 | Maximum Number of Iterations                     | 50       |</pre>"
      ],
      "text/plain": [
       "| max_iterations                 | Maximum Number of Iterations                     | 50       |"
      ]
     },
     "metadata": {},
     "output_type": "display_data"
    },
    {
     "data": {
      "text/html": [
       "<pre>+--------------------------------+--------------------------------------------------+----------+</pre>"
      ],
      "text/plain": [
       "+--------------------------------+--------------------------------------------------+----------+"
      ]
     },
     "metadata": {},
     "output_type": "display_data"
    },
    {
     "data": {
      "text/html": [
       "<pre>  Optimizing model using SGD; tuning step size.</pre>"
      ],
      "text/plain": [
       "  Optimizing model using SGD; tuning step size."
      ]
     },
     "metadata": {},
     "output_type": "display_data"
    },
    {
     "data": {
      "text/html": [
       "<pre>  Using 12500 / 100000 points for tuning the step size.</pre>"
      ],
      "text/plain": [
       "  Using 12500 / 100000 points for tuning the step size."
      ]
     },
     "metadata": {},
     "output_type": "display_data"
    },
    {
     "data": {
      "text/html": [
       "<pre>+---------+-------------------+------------------------------------------+</pre>"
      ],
      "text/plain": [
       "+---------+-------------------+------------------------------------------+"
      ]
     },
     "metadata": {},
     "output_type": "display_data"
    },
    {
     "data": {
      "text/html": [
       "<pre>| Attempt | Initial Step Size | Estimated Objective Value                |</pre>"
      ],
      "text/plain": [
       "| Attempt | Initial Step Size | Estimated Objective Value                |"
      ]
     },
     "metadata": {},
     "output_type": "display_data"
    },
    {
     "data": {
      "text/html": [
       "<pre>+---------+-------------------+------------------------------------------+</pre>"
      ],
      "text/plain": [
       "+---------+-------------------+------------------------------------------+"
      ]
     },
     "metadata": {},
     "output_type": "display_data"
    },
    {
     "data": {
      "text/html": [
       "<pre>| 0       | 16.6667           | Not Viable                               |</pre>"
      ],
      "text/plain": [
       "| 0       | 16.6667           | Not Viable                               |"
      ]
     },
     "metadata": {},
     "output_type": "display_data"
    },
    {
     "data": {
      "text/html": [
       "<pre>| 1       | 4.16667           | Not Viable                               |</pre>"
      ],
      "text/plain": [
       "| 1       | 4.16667           | Not Viable                               |"
      ]
     },
     "metadata": {},
     "output_type": "display_data"
    },
    {
     "data": {
      "text/html": [
       "<pre>| 2       | 1.04167           | Not Viable                               |</pre>"
      ],
      "text/plain": [
       "| 2       | 1.04167           | Not Viable                               |"
      ]
     },
     "metadata": {},
     "output_type": "display_data"
    },
    {
     "data": {
      "text/html": [
       "<pre>| 3       | 0.260417          | 0.158937                                 |</pre>"
      ],
      "text/plain": [
       "| 3       | 0.260417          | 0.158937                                 |"
      ]
     },
     "metadata": {},
     "output_type": "display_data"
    },
    {
     "data": {
      "text/html": [
       "<pre>| 4       | 0.130208          | 0.218047                                 |</pre>"
      ],
      "text/plain": [
       "| 4       | 0.130208          | 0.218047                                 |"
      ]
     },
     "metadata": {},
     "output_type": "display_data"
    },
    {
     "data": {
      "text/html": [
       "<pre>| 5       | 0.0651042         | 0.409802                                 |</pre>"
      ],
      "text/plain": [
       "| 5       | 0.0651042         | 0.409802                                 |"
      ]
     },
     "metadata": {},
     "output_type": "display_data"
    },
    {
     "data": {
      "text/html": [
       "<pre>+---------+-------------------+------------------------------------------+</pre>"
      ],
      "text/plain": [
       "+---------+-------------------+------------------------------------------+"
      ]
     },
     "metadata": {},
     "output_type": "display_data"
    },
    {
     "data": {
      "text/html": [
       "<pre>| Final   | 0.260417          | 0.158937                                 |</pre>"
      ],
      "text/plain": [
       "| Final   | 0.260417          | 0.158937                                 |"
      ]
     },
     "metadata": {},
     "output_type": "display_data"
    },
    {
     "data": {
      "text/html": [
       "<pre>+---------+-------------------+------------------------------------------+</pre>"
      ],
      "text/plain": [
       "+---------+-------------------+------------------------------------------+"
      ]
     },
     "metadata": {},
     "output_type": "display_data"
    },
    {
     "data": {
      "text/html": [
       "<pre>Starting Optimization.</pre>"
      ],
      "text/plain": [
       "Starting Optimization."
      ]
     },
     "metadata": {},
     "output_type": "display_data"
    },
    {
     "data": {
      "text/html": [
       "<pre>+---------+--------------+-------------------+-----------------------+-------------+</pre>"
      ],
      "text/plain": [
       "+---------+--------------+-------------------+-----------------------+-------------+"
      ]
     },
     "metadata": {},
     "output_type": "display_data"
    },
    {
     "data": {
      "text/html": [
       "<pre>| Iter.   | Elapsed Time | Approx. Objective | Approx. Training RMSE | Step Size   |</pre>"
      ],
      "text/plain": [
       "| Iter.   | Elapsed Time | Approx. Objective | Approx. Training RMSE | Step Size   |"
      ]
     },
     "metadata": {},
     "output_type": "display_data"
    },
    {
     "data": {
      "text/html": [
       "<pre>+---------+--------------+-------------------+-----------------------+-------------+</pre>"
      ],
      "text/plain": [
       "+---------+--------------+-------------------+-----------------------+-------------+"
      ]
     },
     "metadata": {},
     "output_type": "display_data"
    },
    {
     "data": {
      "text/html": [
       "<pre>| Initial | 119us        | 1.26712           | 1.12567               |             |</pre>"
      ],
      "text/plain": [
       "| Initial | 119us        | 1.26712           | 1.12567               |             |"
      ]
     },
     "metadata": {},
     "output_type": "display_data"
    },
    {
     "data": {
      "text/html": [
       "<pre>+---------+--------------+-------------------+-----------------------+-------------+</pre>"
      ],
      "text/plain": [
       "+---------+--------------+-------------------+-----------------------+-------------+"
      ]
     },
     "metadata": {},
     "output_type": "display_data"
    },
    {
     "data": {
      "text/html": [
       "<pre>| 1       | 76.702ms     | 1.06054           | 1.02981               | 0.260417    |</pre>"
      ],
      "text/plain": [
       "| 1       | 76.702ms     | 1.06054           | 1.02981               | 0.260417    |"
      ]
     },
     "metadata": {},
     "output_type": "display_data"
    },
    {
     "data": {
      "text/html": [
       "<pre>| 2       | 133.257ms    | 0.795024          | 0.891628              | 0.260417    |</pre>"
      ],
      "text/plain": [
       "| 2       | 133.257ms    | 0.795024          | 0.891628              | 0.260417    |"
      ]
     },
     "metadata": {},
     "output_type": "display_data"
    },
    {
     "data": {
      "text/html": [
       "<pre>| 3       | 181.608ms    | 0.717367          | 0.84696               | 0.260417    |</pre>"
      ],
      "text/plain": [
       "| 3       | 181.608ms    | 0.717367          | 0.84696               | 0.260417    |"
      ]
     },
     "metadata": {},
     "output_type": "display_data"
    },
    {
     "data": {
      "text/html": [
       "<pre>| 4       | 220.636ms    | 0.680352          | 0.824818              | 0.260417    |</pre>"
      ],
      "text/plain": [
       "| 4       | 220.636ms    | 0.680352          | 0.824818              | 0.260417    |"
      ]
     },
     "metadata": {},
     "output_type": "display_data"
    },
    {
     "data": {
      "text/html": [
       "<pre>| 5       | 274.542ms    | 0.655269          | 0.809469              | 0.260417    |</pre>"
      ],
      "text/plain": [
       "| 5       | 274.542ms    | 0.655269          | 0.809469              | 0.260417    |"
      ]
     },
     "metadata": {},
     "output_type": "display_data"
    },
    {
     "data": {
      "text/html": [
       "<pre>| 6       | 322.168ms    | 0.637634          | 0.7985                | 0.260417    |</pre>"
      ],
      "text/plain": [
       "| 6       | 322.168ms    | 0.637634          | 0.7985                | 0.260417    |"
      ]
     },
     "metadata": {},
     "output_type": "display_data"
    },
    {
     "data": {
      "text/html": [
       "<pre>| 11      | 528.599ms    | 0.595839          | 0.771883              | 0.260417    |</pre>"
      ],
      "text/plain": [
       "| 11      | 528.599ms    | 0.595839          | 0.771883              | 0.260417    |"
      ]
     },
     "metadata": {},
     "output_type": "display_data"
    },
    {
     "data": {
      "text/html": [
       "<pre>| 25      | 1.17s        | 0.560063          | 0.748346              | 0.260417    |</pre>"
      ],
      "text/plain": [
       "| 25      | 1.17s        | 0.560063          | 0.748346              | 0.260417    |"
      ]
     },
     "metadata": {},
     "output_type": "display_data"
    },
    {
     "data": {
      "text/html": [
       "<pre>| 50      | 2.34s        | 0.540587          | 0.735215              | 0.260417    |</pre>"
      ],
      "text/plain": [
       "| 50      | 2.34s        | 0.540587          | 0.735215              | 0.260417    |"
      ]
     },
     "metadata": {},
     "output_type": "display_data"
    },
    {
     "data": {
      "text/html": [
       "<pre>+---------+--------------+-------------------+-----------------------+-------------+</pre>"
      ],
      "text/plain": [
       "+---------+--------------+-------------------+-----------------------+-------------+"
      ]
     },
     "metadata": {},
     "output_type": "display_data"
    },
    {
     "data": {
      "text/html": [
       "<pre>Optimization Complete: Maximum number of passes through the data reached.</pre>"
      ],
      "text/plain": [
       "Optimization Complete: Maximum number of passes through the data reached."
      ]
     },
     "metadata": {},
     "output_type": "display_data"
    },
    {
     "data": {
      "text/html": [
       "<pre>Computing final objective value and training RMSE.</pre>"
      ],
      "text/plain": [
       "Computing final objective value and training RMSE."
      ]
     },
     "metadata": {},
     "output_type": "display_data"
    },
    {
     "data": {
      "text/html": [
       "<pre>       Final objective value: 0.51123</pre>"
      ],
      "text/plain": [
       "       Final objective value: 0.51123"
      ]
     },
     "metadata": {},
     "output_type": "display_data"
    },
    {
     "data": {
      "text/html": [
       "<pre>       Final training RMSE: 0.714971</pre>"
      ],
      "text/plain": [
       "       Final training RMSE: 0.714971"
      ]
     },
     "metadata": {},
     "output_type": "display_data"
    },
    {
     "data": {
      "text/html": [
       "<pre>Recsys training: model = popularity</pre>"
      ],
      "text/plain": [
       "Recsys training: model = popularity"
      ]
     },
     "metadata": {},
     "output_type": "display_data"
    },
    {
     "data": {
      "text/html": [
       "<pre>Warning: Ignoring columns title;</pre>"
      ],
      "text/plain": [
       "Warning: Ignoring columns title;"
      ]
     },
     "metadata": {},
     "output_type": "display_data"
    },
    {
     "data": {
      "text/html": [
       "<pre>    To use these columns in scoring predictions, use a model that allows the use of additional features.</pre>"
      ],
      "text/plain": [
       "    To use these columns in scoring predictions, use a model that allows the use of additional features."
      ]
     },
     "metadata": {},
     "output_type": "display_data"
    },
    {
     "data": {
      "text/html": [
       "<pre>Preparing data set.</pre>"
      ],
      "text/plain": [
       "Preparing data set."
      ]
     },
     "metadata": {},
     "output_type": "display_data"
    },
    {
     "data": {
      "text/html": [
       "<pre>    Data has 100000 observations with 1682 users and 943 items.</pre>"
      ],
      "text/plain": [
       "    Data has 100000 observations with 1682 users and 943 items."
      ]
     },
     "metadata": {},
     "output_type": "display_data"
    },
    {
     "data": {
      "text/html": [
       "<pre>    Data prepared in: 0.084973s</pre>"
      ],
      "text/plain": [
       "    Data prepared in: 0.084973s"
      ]
     },
     "metadata": {},
     "output_type": "display_data"
    },
    {
     "data": {
      "text/html": [
       "<pre>100000 observations to process; with 943 unique items.</pre>"
      ],
      "text/plain": [
       "100000 observations to process; with 943 unique items."
      ]
     },
     "metadata": {},
     "output_type": "display_data"
    }
   ],
   "source": [
    "ISF = tc.recommender.item_similarity_recommender.create(analysis, user_id='user_id', item_id='movie_id', target='rating')\n",
    "\n",
    "Factor = tc.recommender.factorization_recommender.create(analysis, user_id='user_id', item_id='movie_id', target='rating')\n",
    "\n",
    "POP = tc.recommender.popularity_recommender.create(analysis, user_id='user_id', item_id='movie_id', target='rating')\n",
    "\n",
    "\n",
    "\n",
    "\n"
   ]
  },
  {
   "cell_type": "markdown",
   "metadata": {},
   "source": [
    "### Get Top-K Recommendations for Three Models\n",
    "\n",
    "---\n",
    "\n",
    "Test your recommender models by finding top k=5 movies. Write your outcomes about the result of testing. <i>What are the scores of each recommendations?</i> <i>How are they accurate?</i> <i>Which model test results are the highest one?</i>"
   ]
  },
  {
   "cell_type": "code",
   "execution_count": 16,
   "metadata": {},
   "outputs": [
    {
     "data": {
      "text/html": [
       "<pre>recommendations finished on 1000/1682 queries. users per second: 45566.4</pre>"
      ],
      "text/plain": [
       "recommendations finished on 1000/1682 queries. users per second: 45566.4"
      ]
     },
     "metadata": {},
     "output_type": "display_data"
    },
    {
     "data": {
      "text/html": [
       "<pre>recommendations finished on 1000/1682 queries. users per second: 31043.4</pre>"
      ],
      "text/plain": [
       "recommendations finished on 1000/1682 queries. users per second: 31043.4"
      ]
     },
     "metadata": {},
     "output_type": "display_data"
    },
    {
     "data": {
      "text/html": [
       "<pre>recommendations finished on 1000/1682 queries. users per second: 173883</pre>"
      ],
      "text/plain": [
       "recommendations finished on 1000/1682 queries. users per second: 173883"
      ]
     },
     "metadata": {},
     "output_type": "display_data"
    },
    {
     "name": "stdout",
     "output_type": "stream",
     "text": [
      "Item Similarity Filtering Model\n",
      "+---------+----------+-----------------+------+\n",
      "| user_id | movie_id |      score      | rank |\n",
      "+---------+----------+-----------------+------+\n",
      "|   242   |   284    | 0.0682035195522 |  1   |\n",
      "|   242   |    59    | 0.0679849177344 |  2   |\n",
      "|   242   |   474    | 0.0678731875542 |  3   |\n",
      "|   242   |   429    | 0.0677685360623 |  4   |\n",
      "|   242   |   308    | 0.0668590252216 |  5   |\n",
      "|   242   |   327    | 0.0632128445511 |  6   |\n",
      "|   242   |   112    |  0.063084667055 |  7   |\n",
      "|   242   |   784    | 0.0618384200284 |  8   |\n",
      "|   242   |   178    | 0.0616936882337 |  9   |\n",
      "|   242   |   446    | 0.0597992997903 |  10  |\n",
      "+---------+----------+-----------------+------+\n",
      "[10 rows x 4 columns]\n",
      "\n",
      "Factorization Recommenders Model\n",
      "+---------+----------+---------------+------+\n",
      "| user_id | movie_id |     score     | rank |\n",
      "+---------+----------+---------------+------+\n",
      "|   242   |   876    | 4.89204655109 |  1   |\n",
      "|   242   |   770    | 4.51461341499 |  2   |\n",
      "|   242   |   923    | 4.40723078965 |  3   |\n",
      "|   242   |   941    | 4.39374419569 |  4   |\n",
      "|   242   |   891    | 4.31988527148 |  5   |\n",
      "|   242   |   317    | 4.28068996488 |  6   |\n",
      "|   242   |   711    | 4.27723866223 |  7   |\n",
      "|   242   |   384    | 4.27323862432 |  8   |\n",
      "|   242   |   469    | 4.27045753865 |  9   |\n",
      "|   242   |   295    | 4.26137747882 |  10  |\n",
      "+---------+----------+---------------+------+\n",
      "[10 rows x 4 columns]\n",
      "\n",
      "Popularity Recommender Model\n",
      "+---------+----------+---------------+------+\n",
      "| user_id | movie_id |     score     | rank |\n",
      "+---------+----------+---------------+------+\n",
      "|   242   |   849    | 4.86956521739 |  1   |\n",
      "|   242   |   688    | 4.83333333333 |  2   |\n",
      "|   242   |   507    | 4.72413793103 |  3   |\n",
      "|   242   |   928    |     4.6875    |  4   |\n",
      "|   242   |   118    | 4.66197183099 |  5   |\n",
      "|   242   |   907    | 4.57142857143 |  6   |\n",
      "|   242   |   686    | 4.56338028169 |  7   |\n",
      "|   242   |   427    | 4.54838709677 |  8   |\n",
      "|   242   |   565    | 4.54285714286 |  9   |\n",
      "|   242   |   469    | 4.53488372093 |  10  |\n",
      "+---------+----------+---------------+------+\n",
      "[10 rows x 4 columns]\n",
      "\n"
     ]
    }
   ],
   "source": [
    "IR = ISF.recommend()\n",
    "FR = Factor.recommend()\n",
    "PR = POP.recommend()\n",
    "\n",
    "print \"Item Similarity Filtering Model\"\n",
    "print IR.head(10)\n",
    "print \"Factorization Recommenders Model\"\n",
    "print FR.head(10)\n",
    "print \"Popularity Recommender Model\"\n",
    "print PR.head(10)\n"
   ]
  },
  {
   "cell_type": "markdown",
   "metadata": {},
   "source": [
    "### Evaluate your model"
   ]
  },
  {
   "cell_type": "markdown",
   "metadata": {},
   "source": [
    "#### Step 1: Calculate RMSE Score for Three Models\n",
    "\n",
    "---\n",
    "\n",
    "**RMSE : Root Mean Squared Error**\n",
    "\n",
    "Write outcomes about rmse scores for each recommender model. Compare results in your report."
   ]
  },
  {
   "cell_type": "code",
   "execution_count": 23,
   "metadata": {},
   "outputs": [
    {
     "name": "stdout",
     "output_type": "stream",
     "text": [
      "Similarity Error\n",
      "{'rmse_by_user': Columns:\n",
      "\tuser_id\tint\n",
      "\tcount\tint\n",
      "\trmse\tfloat\n",
      "\n",
      "Rows: 1682\n",
      "\n",
      "Data:\n",
      "+---------+-------+---------------+\n",
      "| user_id | count |      rmse     |\n",
      "+---------+-------+---------------+\n",
      "|   118   |  293  | 3.36213592708 |\n",
      "|   1029  |   14  | 2.26169232556 |\n",
      "|   435   |  216  | 3.99471583731 |\n",
      "|   1517  |   5   | 2.95700472611 |\n",
      "|   537   |   30  | 3.66922158136 |\n",
      "|   526   |  124  | 3.87727178972 |\n",
      "|   232   |  101  | 3.22458220527 |\n",
      "|   310   |  145  |  3.6683028099 |\n",
      "|    49   |   81  | 3.35645695148 |\n",
      "|    13   |  184  | 3.53208713841 |\n",
      "+---------+-------+---------------+\n",
      "[1682 rows x 3 columns]\n",
      "Note: Only the head of the SFrame is printed.\n",
      "You can use print_rows(num_rows=m, num_columns=n) to print more rows and columns., 'rmse_by_item': Columns:\n",
      "\tmovie_id\tint\n",
      "\tcount\tint\n",
      "\trmse\tfloat\n",
      "\n",
      "Rows: 943\n",
      "\n",
      "Data:\n",
      "+----------+-------+---------------+\n",
      "| movie_id | count |      rmse     |\n",
      "+----------+-------+---------------+\n",
      "|   118    |   71  | 4.71054487158 |\n",
      "|   435    |  379  | 3.35338956777 |\n",
      "|   537    |  490  | 2.91878597567 |\n",
      "|   526    |   68  | 3.42924550433 |\n",
      "|   232    |   93  | 3.98760608536 |\n",
      "|   310    |   21  | 4.09675303524 |\n",
      "|    49    |  215  | 2.95757786814 |\n",
      "|    13    |  636  | 3.34072752683 |\n",
      "|   511    |   24  | 3.87729729046 |\n",
      "|   363    |  311  | 3.22212295555 |\n",
      "+----------+-------+---------------+\n",
      "[943 rows x 3 columns]\n",
      "Note: Only the head of the SFrame is printed.\n",
      "You can use print_rows(num_rows=m, num_columns=n) to print more rows and columns., 'rmse_overall': 3.65158955543254}\n",
      "Factor Error\n",
      "{'rmse_by_user': Columns:\n",
      "\tuser_id\tint\n",
      "\tcount\tint\n",
      "\trmse\tfloat\n",
      "\n",
      "Rows: 1682\n",
      "\n",
      "Data:\n",
      "+---------+-------+----------------+\n",
      "| user_id | count |      rmse      |\n",
      "+---------+-------+----------------+\n",
      "|   118   |  293  | 0.777196347741 |\n",
      "|   1029  |   14  | 0.555918563504 |\n",
      "|   435   |  216  | 0.640646146497 |\n",
      "|   1517  |   5   | 0.249190840551 |\n",
      "|   537   |   30  | 0.62658147019  |\n",
      "|   526   |  124  | 0.708596673487 |\n",
      "|   232   |  101  | 0.573427916719 |\n",
      "|   310   |  145  | 0.647997487172 |\n",
      "|    49   |   81  | 0.634125089761 |\n",
      "|    13   |  184  | 0.698038886318 |\n",
      "+---------+-------+----------------+\n",
      "[1682 rows x 3 columns]\n",
      "Note: Only the head of the SFrame is printed.\n",
      "You can use print_rows(num_rows=m, num_columns=n) to print more rows and columns., 'rmse_by_item': Columns:\n",
      "\tmovie_id\tint\n",
      "\tcount\tint\n",
      "\trmse\tfloat\n",
      "\n",
      "Rows: 943\n",
      "\n",
      "Data:\n",
      "+----------+-------+----------------+\n",
      "| movie_id | count |      rmse      |\n",
      "+----------+-------+----------------+\n",
      "|   118    |   71  | 0.492688734253 |\n",
      "|   435    |  379  | 0.803097735616 |\n",
      "|   537    |  490  | 0.646349095994 |\n",
      "|   526    |   68  | 0.728442705661 |\n",
      "|   232    |   93  | 0.737769656264 |\n",
      "|   310    |   21  | 0.611124801596 |\n",
      "|    49    |  215  | 0.749582500901 |\n",
      "|    13    |  636  | 0.890825810112 |\n",
      "|   511    |   24  | 0.505868662698 |\n",
      "|   363    |  311  | 0.921115445123 |\n",
      "+----------+-------+----------------+\n",
      "[943 rows x 3 columns]\n",
      "Note: Only the head of the SFrame is printed.\n",
      "You can use print_rows(num_rows=m, num_columns=n) to print more rows and columns., 'rmse_overall': 0.7168555431761701}\n",
      "Popularity Error\n",
      "{'rmse_by_user': Columns:\n",
      "\tuser_id\tint\n",
      "\tcount\tint\n",
      "\trmse\tfloat\n",
      "\n",
      "Rows: 1682\n",
      "\n",
      "Data:\n",
      "+---------+-------+----------------+\n",
      "| user_id | count |      rmse      |\n",
      "+---------+-------+----------------+\n",
      "|   118   |  293  | 1.06291271584  |\n",
      "|   1029  |   14  | 1.75616569741  |\n",
      "|   435   |  216  | 0.827823199414 |\n",
      "|   1517  |   5   | 1.03017892845  |\n",
      "|   537   |   30  | 0.92638982553  |\n",
      "|   526   |  124  | 0.93031693031  |\n",
      "|   232   |  101  | 0.831718705222 |\n",
      "|   310   |  145  | 0.909466349601 |\n",
      "|    49   |   81  | 0.785681227839 |\n",
      "|    13   |  184  | 1.02761570632  |\n",
      "+---------+-------+----------------+\n",
      "[1682 rows x 3 columns]\n",
      "Note: Only the head of the SFrame is printed.\n",
      "You can use print_rows(num_rows=m, num_columns=n) to print more rows and columns., 'rmse_by_item': Columns:\n",
      "\tmovie_id\tint\n",
      "\tcount\tint\n",
      "\trmse\tfloat\n",
      "\n",
      "Rows: 943\n",
      "\n",
      "Data:\n",
      "+----------+-------+----------------+\n",
      "| movie_id | count |      rmse      |\n",
      "+----------+-------+----------------+\n",
      "|   118    |   71  | 0.749528715248 |\n",
      "|   435    |  379  | 1.06516598115  |\n",
      "|   537    |  490  | 0.972174297887 |\n",
      "|   526    |   68  | 1.26162415233  |\n",
      "|   232    |   93  | 0.892796935684 |\n",
      "|   310    |   21  | 1.38995423994  |\n",
      "|    49    |  215  | 1.25103310472  |\n",
      "|    13    |  636  | 1.41530047415  |\n",
      "|   511    |   24  | 1.08972473589  |\n",
      "|   363    |  311  | 1.27815021528  |\n",
      "+----------+-------+----------------+\n",
      "[943 rows x 3 columns]\n",
      "Note: Only the head of the SFrame is printed.\n",
      "You can use print_rows(num_rows=m, num_columns=n) to print more rows and columns., 'rmse_overall': 1.0308117943828063}\n"
     ]
    }
   ],
   "source": [
    "IE = ISF.evaluate_rmse(analysis, target='rating')\n",
    "FE = Factor.evaluate_rmse(analysis, target='rating')\n",
    "PE = POP.evaluate_rmse(analysis, target='rating')\n",
    "\n",
    "print \"Similarity Error\"\n",
    "print IE\n",
    "print \"Factor Error\"\n",
    "print FE\n",
    "print \"Popularity Error\"\n",
    "print PE"
   ]
  },
  {
   "cell_type": "markdown",
   "metadata": {},
   "source": [
    "#### Step 2: Report Confusion Matrix Metrics, Precision and Recall\n",
    "\n",
    "---\n",
    "\n",
    "Precision and Recall are two metrices to evaluate the performance of recommender model. Compare and report all three recommender models according to their precision and recall scores."
   ]
  },
  {
   "cell_type": "code",
   "execution_count": null,
   "metadata": {},
   "outputs": [],
   "source": []
  },
  {
   "cell_type": "markdown",
   "metadata": {},
   "source": [
    "### Final Report\n",
    "\n",
    "---\n",
    "\n",
    "Summary the whole process. What did you understand? What kind of actions that may increase the accuracy of recommender models? Write some suggestions."
   ]
  },
  {
   "cell_type": "code",
   "execution_count": null,
   "metadata": {},
   "outputs": [],
   "source": []
  },
  {
   "cell_type": "markdown",
   "metadata": {},
   "source": [
    "## Submission\n",
    "\n",
    "---\n",
    "\n",
    "You need to submit your source code as .py file or .ipynb (ipython notebook). The report of your study should be in .pdf format. Take snapshots of the results that you get in each step of the project and explain your outcomes below of these snap."
   ]
  },
  {
   "cell_type": "code",
   "execution_count": null,
   "metadata": {},
   "outputs": [],
   "source": []
  }
 ],
 "metadata": {
  "kernelspec": {
   "display_name": "Python 2",
   "language": "python",
   "name": "python2"
  },
  "language_info": {
   "codemirror_mode": {
    "name": "ipython",
    "version": 2
   },
   "file_extension": ".py",
   "mimetype": "text/x-python",
   "name": "python",
   "nbconvert_exporter": "python",
   "pygments_lexer": "ipython2",
   "version": "2.7.14"
  }
 },
 "nbformat": 4,
 "nbformat_minor": 2
}
