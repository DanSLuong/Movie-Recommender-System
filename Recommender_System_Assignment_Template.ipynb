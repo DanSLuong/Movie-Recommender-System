{
 "cells": [
  {
   "cell_type": "markdown",
   "metadata": {},
   "source": [
    "# Building Movie Recommender System"
   ]
  },
  {
   "cell_type": "markdown",
   "metadata": {},
   "source": [
    "### Steps of the Project\n",
    " - Import Required Libraries\n",
    " - Import data\n",
    " - Visualize the data (__Optional__)\n",
    " - Create a Recommender Model\n",
    "     - Prepare dataset (<i>K-fold cross validation for train-test-validation dataset splitting</i>)\n",
    " - Apply Recommender Algorithms\n",
    "     - Popularity Recommender Model\n",
    "     - Collaborative Filtering Model\n",
    "     - Item Similarity Filtering Model\n",
    " - Get Top-K Recommendations for three models\n",
    " - Evaluate your models : RMSE (Root Mean Squared Error)\n",
    " - Get Confusion Matrix Results : Precision/Recall metrics\n",
    " - Report the results\n",
    "     - Which model is the best fit for this dataset?\n",
    "     - What are the top-k recommendations for each model?\n",
    "     - Evaluation Results : Which model has the best performance for recommending?"
   ]
  },
  {
   "cell_type": "markdown",
   "metadata": {},
   "source": [
    "### Import Required Libraries\n",
    "\n",
    "---\n",
    "\n",
    "Since you will use Python programming language to implement this project, Python ecosystem has many recommender system libraries that you can use. [Turi Create](https://github.com/apple/turicreate) is one of them and highly recommended library that you can easily use for this project."
   ]
  },
  {
   "cell_type": "code",
   "execution_count": 3,
   "metadata": {},
   "outputs": [],
   "source": [
    "import pandas as pd\n",
    "import turicreate as tc"
   ]
  },
  {
   "cell_type": "markdown",
   "metadata": {},
   "source": [
    "### Visualize Dataset\n",
    "\n",
    "---\n",
    "\n",
    "Sometimes to understand the big picture of the dataset, you may want to check some visualizations to decide which algorithm would fit to solve your problem."
   ]
  },
  {
   "cell_type": "code",
   "execution_count": 4,
   "metadata": {},
   "outputs": [],
   "source": [
    "ratingsCols = ['userID', 'movieID', 'rating']\n",
    "ratings = pd.read_csv('ml-100k/u.data', sep='\\t', names=ratingsCols, usecols=range(3))\n",
    "\n",
    "moviesCols = ['movieID', 'title']\n",
    "movies = pd.read_csv('ml-100k/u.item', sep='|', names=moviesCols, usecols=range(2))\n",
    "\n"
   ]
  },
  {
   "cell_type": "markdown",
   "metadata": {},
   "source": [
    "### Import Dataset\n",
    "\n",
    "---\n",
    "\n",
    "Movie Review [dataset](https://grouplens.org/datasets/movielens/100k/) will be used for this project. After you download the dataset, you can import to your project by using [Pandas](http://pandas.pydata.org/) Python Data Analysis library. For more info check [here](https://pandas.pydata.org/pandas-docs/stable/io.html)."
   ]
  },
  {
   "cell_type": "code",
   "execution_count": 5,
   "metadata": {},
   "outputs": [
    {
     "data": {
      "text/html": [
       "<div>\n",
       "<style scoped>\n",
       "    .dataframe tbody tr th:only-of-type {\n",
       "        vertical-align: middle;\n",
       "    }\n",
       "\n",
       "    .dataframe tbody tr th {\n",
       "        vertical-align: top;\n",
       "    }\n",
       "\n",
       "    .dataframe thead th {\n",
       "        text-align: right;\n",
       "    }\n",
       "</style>\n",
       "<table border=\"1\" class=\"dataframe\">\n",
       "  <thead>\n",
       "    <tr style=\"text-align: right;\">\n",
       "      <th></th>\n",
       "      <th>movieID</th>\n",
       "      <th>title</th>\n",
       "      <th>userID</th>\n",
       "      <th>rating</th>\n",
       "    </tr>\n",
       "  </thead>\n",
       "  <tbody>\n",
       "    <tr>\n",
       "      <th>0</th>\n",
       "      <td>1</td>\n",
       "      <td>Toy Story (1995)</td>\n",
       "      <td>308</td>\n",
       "      <td>4</td>\n",
       "    </tr>\n",
       "    <tr>\n",
       "      <th>1</th>\n",
       "      <td>1</td>\n",
       "      <td>Toy Story (1995)</td>\n",
       "      <td>287</td>\n",
       "      <td>5</td>\n",
       "    </tr>\n",
       "    <tr>\n",
       "      <th>2</th>\n",
       "      <td>1</td>\n",
       "      <td>Toy Story (1995)</td>\n",
       "      <td>148</td>\n",
       "      <td>4</td>\n",
       "    </tr>\n",
       "    <tr>\n",
       "      <th>3</th>\n",
       "      <td>1</td>\n",
       "      <td>Toy Story (1995)</td>\n",
       "      <td>280</td>\n",
       "      <td>4</td>\n",
       "    </tr>\n",
       "    <tr>\n",
       "      <th>4</th>\n",
       "      <td>1</td>\n",
       "      <td>Toy Story (1995)</td>\n",
       "      <td>66</td>\n",
       "      <td>3</td>\n",
       "    </tr>\n",
       "    <tr>\n",
       "      <th>5</th>\n",
       "      <td>1</td>\n",
       "      <td>Toy Story (1995)</td>\n",
       "      <td>5</td>\n",
       "      <td>4</td>\n",
       "    </tr>\n",
       "    <tr>\n",
       "      <th>6</th>\n",
       "      <td>1</td>\n",
       "      <td>Toy Story (1995)</td>\n",
       "      <td>109</td>\n",
       "      <td>4</td>\n",
       "    </tr>\n",
       "    <tr>\n",
       "      <th>7</th>\n",
       "      <td>1</td>\n",
       "      <td>Toy Story (1995)</td>\n",
       "      <td>181</td>\n",
       "      <td>3</td>\n",
       "    </tr>\n",
       "    <tr>\n",
       "      <th>8</th>\n",
       "      <td>1</td>\n",
       "      <td>Toy Story (1995)</td>\n",
       "      <td>95</td>\n",
       "      <td>5</td>\n",
       "    </tr>\n",
       "    <tr>\n",
       "      <th>9</th>\n",
       "      <td>1</td>\n",
       "      <td>Toy Story (1995)</td>\n",
       "      <td>268</td>\n",
       "      <td>3</td>\n",
       "    </tr>\n",
       "  </tbody>\n",
       "</table>\n",
       "</div>"
      ],
      "text/plain": [
       "   movieID             title  userID  rating\n",
       "0        1  Toy Story (1995)     308       4\n",
       "1        1  Toy Story (1995)     287       5\n",
       "2        1  Toy Story (1995)     148       4\n",
       "3        1  Toy Story (1995)     280       4\n",
       "4        1  Toy Story (1995)      66       3\n",
       "5        1  Toy Story (1995)       5       4\n",
       "6        1  Toy Story (1995)     109       4\n",
       "7        1  Toy Story (1995)     181       3\n",
       "8        1  Toy Story (1995)      95       5\n",
       "9        1  Toy Story (1995)     268       3"
      ]
     },
     "execution_count": 5,
     "metadata": {},
     "output_type": "execute_result"
    }
   ],
   "source": [
    "analysis = pd.merge(movies, ratings)\n",
    "analysis.head(10)"
   ]
  },
  {
   "cell_type": "markdown",
   "metadata": {},
   "source": [
    "### Create a Recommender Model\n",
    "\n",
    "---\n",
    "A recommender system allows you to build personalized recommendation systems to users. There are many methods to do this. In this project, you will need to use three of these methods which are __popularity-based recommender model__ , __factorization recommenders model__ , and __item similarity model__ . \n",
    "\n",
    "[Turi](https://github.com/apple/turicreate) has easy-to-implement recommender models. You can use Turi's recommender models for your dataset. For more information check [here](https://apple.github.io/turicreate/docs/api/turicreate.toolkits.recommender.html#creating-a-recommender)\n",
    "<br>\n",
    "\n",
    "The steps of building a recommender system are;\n",
    " - Do not forget to convert your dataset to [SFrame](https://apple.github.io/turicreate/docs/api/generated/turicreate.SFrame.html#turicreate.SFrame) type. Also split the dataset for training, testing, and validation processes. [Write code here](#Convert-dataset-to-SFrame)\n",
    " - Create and Apply each model to your dataset. (In this assignment, you will use three different methods as listed above) [Write code here](#Create-and-Apply-Recommender-Algorithms).\n",
    " - Find top k recommendations. (Display top k=5 recommendations and check the scores of them.)[Write code here](#Get-Top-K-Recommendations-for-Three-Models)\n",
    " - Evaluate your model. (Check your model with confusion matrix metrics and find how accurate your model is to recommend movies to users.)[Write code here](#Evaluate-your-model)"
   ]
  },
  {
   "cell_type": "markdown",
   "metadata": {},
   "source": [
    "### Convert dataset to SFrame"
   ]
  },
  {
   "cell_type": "code",
   "execution_count": 6,
   "metadata": {
    "scrolled": true
   },
   "outputs": [
    {
     "data": {
      "text/html": [
       "<pre>Finished parsing file /Users/akabou/Desktop/Google Drive/School/CS 4319 - Statistics and Machine Learning/Final Project/Movie-Recommender-System/ml-100k/u1.base</pre>"
      ],
      "text/plain": [
       "Finished parsing file /Users/akabou/Desktop/Google Drive/School/CS 4319 - Statistics and Machine Learning/Final Project/Movie-Recommender-System/ml-100k/u1.base"
      ]
     },
     "metadata": {},
     "output_type": "display_data"
    },
    {
     "data": {
      "text/html": [
       "<pre>Parsing completed. Parsed 100 lines in 0.054356 secs.</pre>"
      ],
      "text/plain": [
       "Parsing completed. Parsed 100 lines in 0.054356 secs."
      ]
     },
     "metadata": {},
     "output_type": "display_data"
    },
    {
     "name": "stdout",
     "output_type": "stream",
     "text": [
      "------------------------------------------------------\n",
      "Inferred types from first 100 line(s) of file as \n",
      "column_type_hints=[int,int,int]\n",
      "If parsing fails due to incorrect types, you can correct\n",
      "the inferred type list above and pass it to read_csv in\n",
      "the column_type_hints argument\n",
      "------------------------------------------------------\n"
     ]
    },
    {
     "data": {
      "text/html": [
       "<pre>Finished parsing file /Users/akabou/Desktop/Google Drive/School/CS 4319 - Statistics and Machine Learning/Final Project/Movie-Recommender-System/ml-100k/u1.base</pre>"
      ],
      "text/plain": [
       "Finished parsing file /Users/akabou/Desktop/Google Drive/School/CS 4319 - Statistics and Machine Learning/Final Project/Movie-Recommender-System/ml-100k/u1.base"
      ]
     },
     "metadata": {},
     "output_type": "display_data"
    },
    {
     "data": {
      "text/html": [
       "<pre>Parsing completed. Parsed 80000 lines in 0.033296 secs.</pre>"
      ],
      "text/plain": [
       "Parsing completed. Parsed 80000 lines in 0.033296 secs."
      ]
     },
     "metadata": {},
     "output_type": "display_data"
    },
    {
     "data": {
      "text/html": [
       "<pre>Finished parsing file /Users/akabou/Desktop/Google Drive/School/CS 4319 - Statistics and Machine Learning/Final Project/Movie-Recommender-System/ml-100k/u.item</pre>"
      ],
      "text/plain": [
       "Finished parsing file /Users/akabou/Desktop/Google Drive/School/CS 4319 - Statistics and Machine Learning/Final Project/Movie-Recommender-System/ml-100k/u.item"
      ]
     },
     "metadata": {},
     "output_type": "display_data"
    },
    {
     "data": {
      "text/html": [
       "<pre>Parsing completed. Parsed 100 lines in 0.010057 secs.</pre>"
      ],
      "text/plain": [
       "Parsing completed. Parsed 100 lines in 0.010057 secs."
      ]
     },
     "metadata": {},
     "output_type": "display_data"
    },
    {
     "name": "stdout",
     "output_type": "stream",
     "text": [
      "------------------------------------------------------\n",
      "Inferred types from first 100 line(s) of file as \n",
      "column_type_hints=[int,str]\n",
      "If parsing fails due to incorrect types, you can correct\n",
      "the inferred type list above and pass it to read_csv in\n",
      "the column_type_hints argument\n",
      "------------------------------------------------------\n"
     ]
    },
    {
     "data": {
      "text/html": [
       "<pre>Finished parsing file /Users/akabou/Desktop/Google Drive/School/CS 4319 - Statistics and Machine Learning/Final Project/Movie-Recommender-System/ml-100k/u.item</pre>"
      ],
      "text/plain": [
       "Finished parsing file /Users/akabou/Desktop/Google Drive/School/CS 4319 - Statistics and Machine Learning/Final Project/Movie-Recommender-System/ml-100k/u.item"
      ]
     },
     "metadata": {},
     "output_type": "display_data"
    },
    {
     "data": {
      "text/html": [
       "<pre>Parsing completed. Parsed 1682 lines in 0.011642 secs.</pre>"
      ],
      "text/plain": [
       "Parsing completed. Parsed 1682 lines in 0.011642 secs."
      ]
     },
     "metadata": {},
     "output_type": "display_data"
    },
    {
     "data": {
      "text/html": [
       "<pre>Finished parsing file /Users/akabou/Desktop/Google Drive/School/CS 4319 - Statistics and Machine Learning/Final Project/Movie-Recommender-System/ml-100k/u1.test</pre>"
      ],
      "text/plain": [
       "Finished parsing file /Users/akabou/Desktop/Google Drive/School/CS 4319 - Statistics and Machine Learning/Final Project/Movie-Recommender-System/ml-100k/u1.test"
      ]
     },
     "metadata": {},
     "output_type": "display_data"
    },
    {
     "data": {
      "text/html": [
       "<pre>Parsing completed. Parsed 100 lines in 0.035524 secs.</pre>"
      ],
      "text/plain": [
       "Parsing completed. Parsed 100 lines in 0.035524 secs."
      ]
     },
     "metadata": {},
     "output_type": "display_data"
    },
    {
     "name": "stdout",
     "output_type": "stream",
     "text": [
      "------------------------------------------------------\n",
      "Inferred types from first 100 line(s) of file as \n",
      "column_type_hints=[int,int,int]\n",
      "If parsing fails due to incorrect types, you can correct\n",
      "the inferred type list above and pass it to read_csv in\n",
      "the column_type_hints argument\n",
      "------------------------------------------------------\n"
     ]
    },
    {
     "data": {
      "text/html": [
       "<pre>Finished parsing file /Users/akabou/Desktop/Google Drive/School/CS 4319 - Statistics and Machine Learning/Final Project/Movie-Recommender-System/ml-100k/u1.test</pre>"
      ],
      "text/plain": [
       "Finished parsing file /Users/akabou/Desktop/Google Drive/School/CS 4319 - Statistics and Machine Learning/Final Project/Movie-Recommender-System/ml-100k/u1.test"
      ]
     },
     "metadata": {},
     "output_type": "display_data"
    },
    {
     "data": {
      "text/html": [
       "<pre>Parsing completed. Parsed 20000 lines in 0.014338 secs.</pre>"
      ],
      "text/plain": [
       "Parsing completed. Parsed 20000 lines in 0.014338 secs."
      ]
     },
     "metadata": {},
     "output_type": "display_data"
    }
   ],
   "source": [
    "ratings = tc.SFrame.read_csv('ml-100k/u1.base', header=False, delimiter='\\t', usecols=['X1','X2','X3'])\n",
    "ratings = ratings.rename({'X1':'movie_id', 'X2':'user_id', 'X3':'rating'})\n",
    "\n",
    "movies = data = tc.SFrame.read_csv('ml-100k/u.item', header=False, delimiter='|', usecols=['X1', 'X2'])\n",
    "movies = movies.rename({'X1':'movie_id', 'X2':'title'})\n",
    "analysis = movies.join(ratings)\n",
    "\n",
    "ratingsTest = tc.SFrame.read_csv('ml-100k/u1.test', header=False, delimiter='\\t', usecols=['X1','X2','X3'])\n",
    "ratingsTest = ratingsTest.rename({'X1':'movie_id', 'X2':'user_id', 'X3':'rating'})\n",
    "analysisTest = movies.join(ratingsTest)"
   ]
  },
  {
   "cell_type": "markdown",
   "metadata": {},
   "source": [
    "### Create and Apply Recommender Algorithms\n",
    "\n",
    "---\n",
    "Implement three recommender algorithms;\n",
    " - __Popularity Recommender Model__,\n",
    " - __Factorization Recommenders Model__,\n",
    " - __Item Similarity Filtering Model__ .\n",
    " \n",
    " \n"
   ]
  },
  {
   "cell_type": "code",
   "execution_count": 7,
   "metadata": {},
   "outputs": [
    {
     "data": {
      "text/html": [
       "<pre>Recsys training: model = item_similarity</pre>"
      ],
      "text/plain": [
       "Recsys training: model = item_similarity"
      ]
     },
     "metadata": {},
     "output_type": "display_data"
    },
    {
     "data": {
      "text/html": [
       "<pre>Warning: Ignoring columns title;</pre>"
      ],
      "text/plain": [
       "Warning: Ignoring columns title;"
      ]
     },
     "metadata": {},
     "output_type": "display_data"
    },
    {
     "data": {
      "text/html": [
       "<pre>    To use these columns in scoring predictions, use a model that allows the use of additional features.</pre>"
      ],
      "text/plain": [
       "    To use these columns in scoring predictions, use a model that allows the use of additional features."
      ]
     },
     "metadata": {},
     "output_type": "display_data"
    },
    {
     "data": {
      "text/html": [
       "<pre>Preparing data set.</pre>"
      ],
      "text/plain": [
       "Preparing data set."
      ]
     },
     "metadata": {},
     "output_type": "display_data"
    },
    {
     "data": {
      "text/html": [
       "<pre>    Data has 80000 observations with 1650 users and 943 items.</pre>"
      ],
      "text/plain": [
       "    Data has 80000 observations with 1650 users and 943 items."
      ]
     },
     "metadata": {},
     "output_type": "display_data"
    },
    {
     "data": {
      "text/html": [
       "<pre>    Data prepared in: 0.097437s</pre>"
      ],
      "text/plain": [
       "    Data prepared in: 0.097437s"
      ]
     },
     "metadata": {},
     "output_type": "display_data"
    },
    {
     "data": {
      "text/html": [
       "<pre>Training model from provided data.</pre>"
      ],
      "text/plain": [
       "Training model from provided data."
      ]
     },
     "metadata": {},
     "output_type": "display_data"
    },
    {
     "data": {
      "text/html": [
       "<pre>Gathering per-item and per-user statistics.</pre>"
      ],
      "text/plain": [
       "Gathering per-item and per-user statistics."
      ]
     },
     "metadata": {},
     "output_type": "display_data"
    },
    {
     "data": {
      "text/html": [
       "<pre>+--------------------------------+------------+</pre>"
      ],
      "text/plain": [
       "+--------------------------------+------------+"
      ]
     },
     "metadata": {},
     "output_type": "display_data"
    },
    {
     "data": {
      "text/html": [
       "<pre>| Elapsed Time (Item Statistics) | % Complete |</pre>"
      ],
      "text/plain": [
       "| Elapsed Time (Item Statistics) | % Complete |"
      ]
     },
     "metadata": {},
     "output_type": "display_data"
    },
    {
     "data": {
      "text/html": [
       "<pre>+--------------------------------+------------+</pre>"
      ],
      "text/plain": [
       "+--------------------------------+------------+"
      ]
     },
     "metadata": {},
     "output_type": "display_data"
    },
    {
     "data": {
      "text/html": [
       "<pre>| 1.981ms                        | 60.5       |</pre>"
      ],
      "text/plain": [
       "| 1.981ms                        | 60.5       |"
      ]
     },
     "metadata": {},
     "output_type": "display_data"
    },
    {
     "data": {
      "text/html": [
       "<pre>| 3.961ms                        | 100        |</pre>"
      ],
      "text/plain": [
       "| 3.961ms                        | 100        |"
      ]
     },
     "metadata": {},
     "output_type": "display_data"
    },
    {
     "data": {
      "text/html": [
       "<pre>+--------------------------------+------------+</pre>"
      ],
      "text/plain": [
       "+--------------------------------+------------+"
      ]
     },
     "metadata": {},
     "output_type": "display_data"
    },
    {
     "data": {
      "text/html": [
       "<pre>Setting up lookup tables.</pre>"
      ],
      "text/plain": [
       "Setting up lookup tables."
      ]
     },
     "metadata": {},
     "output_type": "display_data"
    },
    {
     "data": {
      "text/html": [
       "<pre>Processing data in one pass using dense lookup tables.</pre>"
      ],
      "text/plain": [
       "Processing data in one pass using dense lookup tables."
      ]
     },
     "metadata": {},
     "output_type": "display_data"
    },
    {
     "data": {
      "text/html": [
       "<pre>+-------------------------------------+------------------+-----------------+</pre>"
      ],
      "text/plain": [
       "+-------------------------------------+------------------+-----------------+"
      ]
     },
     "metadata": {},
     "output_type": "display_data"
    },
    {
     "data": {
      "text/html": [
       "<pre>| Elapsed Time (Constructing Lookups) | Total % Complete | Items Processed |</pre>"
      ],
      "text/plain": [
       "| Elapsed Time (Constructing Lookups) | Total % Complete | Items Processed |"
      ]
     },
     "metadata": {},
     "output_type": "display_data"
    },
    {
     "data": {
      "text/html": [
       "<pre>+-------------------------------------+------------------+-----------------+</pre>"
      ],
      "text/plain": [
       "+-------------------------------------+------------------+-----------------+"
      ]
     },
     "metadata": {},
     "output_type": "display_data"
    },
    {
     "data": {
      "text/html": [
       "<pre>| 36.781ms                            | 0                | 0               |</pre>"
      ],
      "text/plain": [
       "| 36.781ms                            | 0                | 0               |"
      ]
     },
     "metadata": {},
     "output_type": "display_data"
    },
    {
     "data": {
      "text/html": [
       "<pre>| 105.333ms                           | 100              | 943             |</pre>"
      ],
      "text/plain": [
       "| 105.333ms                           | 100              | 943             |"
      ]
     },
     "metadata": {},
     "output_type": "display_data"
    },
    {
     "data": {
      "text/html": [
       "<pre>+-------------------------------------+------------------+-----------------+</pre>"
      ],
      "text/plain": [
       "+-------------------------------------+------------------+-----------------+"
      ]
     },
     "metadata": {},
     "output_type": "display_data"
    },
    {
     "data": {
      "text/html": [
       "<pre>Finalizing lookup tables.</pre>"
      ],
      "text/plain": [
       "Finalizing lookup tables."
      ]
     },
     "metadata": {},
     "output_type": "display_data"
    },
    {
     "data": {
      "text/html": [
       "<pre>Generating candidate set for working with new users.</pre>"
      ],
      "text/plain": [
       "Generating candidate set for working with new users."
      ]
     },
     "metadata": {},
     "output_type": "display_data"
    },
    {
     "data": {
      "text/html": [
       "<pre>Finished training in 1.13743s</pre>"
      ],
      "text/plain": [
       "Finished training in 1.13743s"
      ]
     },
     "metadata": {},
     "output_type": "display_data"
    },
    {
     "data": {
      "text/html": [
       "<pre>Recsys training: model = factorization_recommender</pre>"
      ],
      "text/plain": [
       "Recsys training: model = factorization_recommender"
      ]
     },
     "metadata": {},
     "output_type": "display_data"
    },
    {
     "data": {
      "text/html": [
       "<pre>Preparing data set.</pre>"
      ],
      "text/plain": [
       "Preparing data set."
      ]
     },
     "metadata": {},
     "output_type": "display_data"
    },
    {
     "data": {
      "text/html": [
       "<pre>    Data has 80000 observations with 1650 users and 943 items.</pre>"
      ],
      "text/plain": [
       "    Data has 80000 observations with 1650 users and 943 items."
      ]
     },
     "metadata": {},
     "output_type": "display_data"
    },
    {
     "data": {
      "text/html": [
       "<pre>    Data prepared in: 0.098804s</pre>"
      ],
      "text/plain": [
       "    Data prepared in: 0.098804s"
      ]
     },
     "metadata": {},
     "output_type": "display_data"
    },
    {
     "data": {
      "text/html": [
       "<pre>Training factorization_recommender for recommendations.</pre>"
      ],
      "text/plain": [
       "Training factorization_recommender for recommendations."
      ]
     },
     "metadata": {},
     "output_type": "display_data"
    },
    {
     "data": {
      "text/html": [
       "<pre>+--------------------------------+--------------------------------------------------+----------+</pre>"
      ],
      "text/plain": [
       "+--------------------------------+--------------------------------------------------+----------+"
      ]
     },
     "metadata": {},
     "output_type": "display_data"
    },
    {
     "data": {
      "text/html": [
       "<pre>| Parameter                      | Description                                      | Value    |</pre>"
      ],
      "text/plain": [
       "| Parameter                      | Description                                      | Value    |"
      ]
     },
     "metadata": {},
     "output_type": "display_data"
    },
    {
     "data": {
      "text/html": [
       "<pre>+--------------------------------+--------------------------------------------------+----------+</pre>"
      ],
      "text/plain": [
       "+--------------------------------+--------------------------------------------------+----------+"
      ]
     },
     "metadata": {},
     "output_type": "display_data"
    },
    {
     "data": {
      "text/html": [
       "<pre>| num_factors                    | Factor Dimension                                 | 8        |</pre>"
      ],
      "text/plain": [
       "| num_factors                    | Factor Dimension                                 | 8        |"
      ]
     },
     "metadata": {},
     "output_type": "display_data"
    },
    {
     "data": {
      "text/html": [
       "<pre>| regularization                 | L2 Regularization on Factors                     | 1e-08    |</pre>"
      ],
      "text/plain": [
       "| regularization                 | L2 Regularization on Factors                     | 1e-08    |"
      ]
     },
     "metadata": {},
     "output_type": "display_data"
    },
    {
     "data": {
      "text/html": [
       "<pre>| solver                         | Solver used for training                         | adagrad  |</pre>"
      ],
      "text/plain": [
       "| solver                         | Solver used for training                         | adagrad  |"
      ]
     },
     "metadata": {},
     "output_type": "display_data"
    },
    {
     "data": {
      "text/html": [
       "<pre>| linear_regularization          | L2 Regularization on Linear Coefficients         | 1e-10    |</pre>"
      ],
      "text/plain": [
       "| linear_regularization          | L2 Regularization on Linear Coefficients         | 1e-10    |"
      ]
     },
     "metadata": {},
     "output_type": "display_data"
    },
    {
     "data": {
      "text/html": [
       "<pre>| max_iterations                 | Maximum Number of Iterations                     | 50       |</pre>"
      ],
      "text/plain": [
       "| max_iterations                 | Maximum Number of Iterations                     | 50       |"
      ]
     },
     "metadata": {},
     "output_type": "display_data"
    },
    {
     "data": {
      "text/html": [
       "<pre>+--------------------------------+--------------------------------------------------+----------+</pre>"
      ],
      "text/plain": [
       "+--------------------------------+--------------------------------------------------+----------+"
      ]
     },
     "metadata": {},
     "output_type": "display_data"
    },
    {
     "data": {
      "text/html": [
       "<pre>  Optimizing model using SGD; tuning step size.</pre>"
      ],
      "text/plain": [
       "  Optimizing model using SGD; tuning step size."
      ]
     },
     "metadata": {},
     "output_type": "display_data"
    },
    {
     "data": {
      "text/html": [
       "<pre>  Using 10000 / 80000 points for tuning the step size.</pre>"
      ],
      "text/plain": [
       "  Using 10000 / 80000 points for tuning the step size."
      ]
     },
     "metadata": {},
     "output_type": "display_data"
    },
    {
     "data": {
      "text/html": [
       "<pre>+---------+-------------------+------------------------------------------+</pre>"
      ],
      "text/plain": [
       "+---------+-------------------+------------------------------------------+"
      ]
     },
     "metadata": {},
     "output_type": "display_data"
    },
    {
     "data": {
      "text/html": [
       "<pre>| Attempt | Initial Step Size | Estimated Objective Value                |</pre>"
      ],
      "text/plain": [
       "| Attempt | Initial Step Size | Estimated Objective Value                |"
      ]
     },
     "metadata": {},
     "output_type": "display_data"
    },
    {
     "data": {
      "text/html": [
       "<pre>+---------+-------------------+------------------------------------------+</pre>"
      ],
      "text/plain": [
       "+---------+-------------------+------------------------------------------+"
      ]
     },
     "metadata": {},
     "output_type": "display_data"
    },
    {
     "data": {
      "text/html": [
       "<pre>| 0       | 16.6667           | Not Viable                               |</pre>"
      ],
      "text/plain": [
       "| 0       | 16.6667           | Not Viable                               |"
      ]
     },
     "metadata": {},
     "output_type": "display_data"
    },
    {
     "data": {
      "text/html": [
       "<pre>| 1       | 4.16667           | Not Viable                               |</pre>"
      ],
      "text/plain": [
       "| 1       | 4.16667           | Not Viable                               |"
      ]
     },
     "metadata": {},
     "output_type": "display_data"
    },
    {
     "data": {
      "text/html": [
       "<pre>| 2       | 1.04167           | Not Viable                               |</pre>"
      ],
      "text/plain": [
       "| 2       | 1.04167           | Not Viable                               |"
      ]
     },
     "metadata": {},
     "output_type": "display_data"
    },
    {
     "data": {
      "text/html": [
       "<pre>| 3       | 0.260417          | 0.105815                                 |</pre>"
      ],
      "text/plain": [
       "| 3       | 0.260417          | 0.105815                                 |"
      ]
     },
     "metadata": {},
     "output_type": "display_data"
    },
    {
     "data": {
      "text/html": [
       "<pre>| 4       | 0.130208          | 0.154388                                 |</pre>"
      ],
      "text/plain": [
       "| 4       | 0.130208          | 0.154388                                 |"
      ]
     },
     "metadata": {},
     "output_type": "display_data"
    },
    {
     "data": {
      "text/html": [
       "<pre>| 5       | 0.0651042         | 0.348898                                 |</pre>"
      ],
      "text/plain": [
       "| 5       | 0.0651042         | 0.348898                                 |"
      ]
     },
     "metadata": {},
     "output_type": "display_data"
    },
    {
     "data": {
      "text/html": [
       "<pre>+---------+-------------------+------------------------------------------+</pre>"
      ],
      "text/plain": [
       "+---------+-------------------+------------------------------------------+"
      ]
     },
     "metadata": {},
     "output_type": "display_data"
    },
    {
     "data": {
      "text/html": [
       "<pre>| Final   | 0.260417          | 0.105815                                 |</pre>"
      ],
      "text/plain": [
       "| Final   | 0.260417          | 0.105815                                 |"
      ]
     },
     "metadata": {},
     "output_type": "display_data"
    },
    {
     "data": {
      "text/html": [
       "<pre>+---------+-------------------+------------------------------------------+</pre>"
      ],
      "text/plain": [
       "+---------+-------------------+------------------------------------------+"
      ]
     },
     "metadata": {},
     "output_type": "display_data"
    },
    {
     "data": {
      "text/html": [
       "<pre>Starting Optimization.</pre>"
      ],
      "text/plain": [
       "Starting Optimization."
      ]
     },
     "metadata": {},
     "output_type": "display_data"
    },
    {
     "data": {
      "text/html": [
       "<pre>+---------+--------------+-------------------+-----------------------+-------------+</pre>"
      ],
      "text/plain": [
       "+---------+--------------+-------------------+-----------------------+-------------+"
      ]
     },
     "metadata": {},
     "output_type": "display_data"
    },
    {
     "data": {
      "text/html": [
       "<pre>| Iter.   | Elapsed Time | Approx. Objective | Approx. Training RMSE | Step Size   |</pre>"
      ],
      "text/plain": [
       "| Iter.   | Elapsed Time | Approx. Objective | Approx. Training RMSE | Step Size   |"
      ]
     },
     "metadata": {},
     "output_type": "display_data"
    },
    {
     "data": {
      "text/html": [
       "<pre>+---------+--------------+-------------------+-----------------------+-------------+</pre>"
      ],
      "text/plain": [
       "+---------+--------------+-------------------+-----------------------+-------------+"
      ]
     },
     "metadata": {},
     "output_type": "display_data"
    },
    {
     "data": {
      "text/html": [
       "<pre>| Initial | 82us         | 1.25117           | 1.11856               |             |</pre>"
      ],
      "text/plain": [
       "| Initial | 82us         | 1.25117           | 1.11856               |             |"
      ]
     },
     "metadata": {},
     "output_type": "display_data"
    },
    {
     "data": {
      "text/html": [
       "<pre>+---------+--------------+-------------------+-----------------------+-------------+</pre>"
      ],
      "text/plain": [
       "+---------+--------------+-------------------+-----------------------+-------------+"
      ]
     },
     "metadata": {},
     "output_type": "display_data"
    },
    {
     "data": {
      "text/html": [
       "<pre>| 1       | 76.178ms     | 1.0856            | 1.04191               | 0.260417    |</pre>"
      ],
      "text/plain": [
       "| 1       | 76.178ms     | 1.0856            | 1.04191               | 0.260417    |"
      ]
     },
     "metadata": {},
     "output_type": "display_data"
    },
    {
     "data": {
      "text/html": [
       "<pre>| 2       | 123.351ms    | 0.791017          | 0.889378              | 0.260417    |</pre>"
      ],
      "text/plain": [
       "| 2       | 123.351ms    | 0.791017          | 0.889378              | 0.260417    |"
      ]
     },
     "metadata": {},
     "output_type": "display_data"
    },
    {
     "data": {
      "text/html": [
       "<pre>| 3       | 171.363ms    | 0.706143          | 0.840307              | 0.260417    |</pre>"
      ],
      "text/plain": [
       "| 3       | 171.363ms    | 0.706143          | 0.840307              | 0.260417    |"
      ]
     },
     "metadata": {},
     "output_type": "display_data"
    },
    {
     "data": {
      "text/html": [
       "<pre>| 4       | 224.486ms    | 0.664805          | 0.815338              | 0.260417    |</pre>"
      ],
      "text/plain": [
       "| 4       | 224.486ms    | 0.664805          | 0.815338              | 0.260417    |"
      ]
     },
     "metadata": {},
     "output_type": "display_data"
    },
    {
     "data": {
      "text/html": [
       "<pre>| 5       | 269.348ms    | 0.636184          | 0.797592              | 0.260417    |</pre>"
      ],
      "text/plain": [
       "| 5       | 269.348ms    | 0.636184          | 0.797592              | 0.260417    |"
      ]
     },
     "metadata": {},
     "output_type": "display_data"
    },
    {
     "data": {
      "text/html": [
       "<pre>| 6       | 312.407ms    | 0.617971          | 0.786091              | 0.260417    |</pre>"
      ],
      "text/plain": [
       "| 6       | 312.407ms    | 0.617971          | 0.786091              | 0.260417    |"
      ]
     },
     "metadata": {},
     "output_type": "display_data"
    },
    {
     "data": {
      "text/html": [
       "<pre>| 11      | 507.874ms    | 0.569805          | 0.75483               | 0.260417    |</pre>"
      ],
      "text/plain": [
       "| 11      | 507.874ms    | 0.569805          | 0.75483               | 0.260417    |"
      ]
     },
     "metadata": {},
     "output_type": "display_data"
    },
    {
     "data": {
      "text/html": [
       "<pre>| 25      | 1.08s        | 0.528794          | 0.727153              | 0.260417    |</pre>"
      ],
      "text/plain": [
       "| 25      | 1.08s        | 0.528794          | 0.727153              | 0.260417    |"
      ]
     },
     "metadata": {},
     "output_type": "display_data"
    },
    {
     "data": {
      "text/html": [
       "<pre>| 50      | 2.23s        | 0.506456          | 0.711624              | 0.260417    |</pre>"
      ],
      "text/plain": [
       "| 50      | 2.23s        | 0.506456          | 0.711624              | 0.260417    |"
      ]
     },
     "metadata": {},
     "output_type": "display_data"
    },
    {
     "data": {
      "text/html": [
       "<pre>+---------+--------------+-------------------+-----------------------+-------------+</pre>"
      ],
      "text/plain": [
       "+---------+--------------+-------------------+-----------------------+-------------+"
      ]
     },
     "metadata": {},
     "output_type": "display_data"
    },
    {
     "data": {
      "text/html": [
       "<pre>Optimization Complete: Maximum number of passes through the data reached.</pre>"
      ],
      "text/plain": [
       "Optimization Complete: Maximum number of passes through the data reached."
      ]
     },
     "metadata": {},
     "output_type": "display_data"
    },
    {
     "data": {
      "text/html": [
       "<pre>Computing final objective value and training RMSE.</pre>"
      ],
      "text/plain": [
       "Computing final objective value and training RMSE."
      ]
     },
     "metadata": {},
     "output_type": "display_data"
    },
    {
     "data": {
      "text/html": [
       "<pre>       Final objective value: 0.474113</pre>"
      ],
      "text/plain": [
       "       Final objective value: 0.474113"
      ]
     },
     "metadata": {},
     "output_type": "display_data"
    },
    {
     "data": {
      "text/html": [
       "<pre>       Final training RMSE: 0.688524</pre>"
      ],
      "text/plain": [
       "       Final training RMSE: 0.688524"
      ]
     },
     "metadata": {},
     "output_type": "display_data"
    },
    {
     "data": {
      "text/html": [
       "<pre>Recsys training: model = popularity</pre>"
      ],
      "text/plain": [
       "Recsys training: model = popularity"
      ]
     },
     "metadata": {},
     "output_type": "display_data"
    },
    {
     "data": {
      "text/html": [
       "<pre>Warning: Ignoring columns title;</pre>"
      ],
      "text/plain": [
       "Warning: Ignoring columns title;"
      ]
     },
     "metadata": {},
     "output_type": "display_data"
    },
    {
     "data": {
      "text/html": [
       "<pre>    To use these columns in scoring predictions, use a model that allows the use of additional features.</pre>"
      ],
      "text/plain": [
       "    To use these columns in scoring predictions, use a model that allows the use of additional features."
      ]
     },
     "metadata": {},
     "output_type": "display_data"
    },
    {
     "data": {
      "text/html": [
       "<pre>Preparing data set.</pre>"
      ],
      "text/plain": [
       "Preparing data set."
      ]
     },
     "metadata": {},
     "output_type": "display_data"
    },
    {
     "data": {
      "text/html": [
       "<pre>    Data has 80000 observations with 1650 users and 943 items.</pre>"
      ],
      "text/plain": [
       "    Data has 80000 observations with 1650 users and 943 items."
      ]
     },
     "metadata": {},
     "output_type": "display_data"
    },
    {
     "data": {
      "text/html": [
       "<pre>    Data prepared in: 0.073091s</pre>"
      ],
      "text/plain": [
       "    Data prepared in: 0.073091s"
      ]
     },
     "metadata": {},
     "output_type": "display_data"
    },
    {
     "data": {
      "text/html": [
       "<pre>80000 observations to process; with 943 unique items.</pre>"
      ],
      "text/plain": [
       "80000 observations to process; with 943 unique items."
      ]
     },
     "metadata": {},
     "output_type": "display_data"
    }
   ],
   "source": [
    "ISF = tc.recommender.item_similarity_recommender.create(analysis, user_id='user_id', item_id='movie_id', target='rating')\n",
    "\n",
    "Factor = tc.recommender.factorization_recommender.create(analysis, user_id='user_id', item_id='movie_id', target='rating')\n",
    "\n",
    "POP = tc.recommender.popularity_recommender.create(analysis, user_id='user_id', item_id='movie_id', target='rating')\n",
    "\n",
    "\n",
    "\n",
    "\n"
   ]
  },
  {
   "cell_type": "markdown",
   "metadata": {},
   "source": [
    "### Get Top-K Recommendations for Three Models\n",
    "\n",
    "---\n",
    "\n",
    "Test your recommender models by finding top k=5 movies. Write your outcomes about the result of testing. <i>What are the scores of each recommendations?</i> <i>How are they accurate?</i> <i>Which model test results are the highest one?</i>"
   ]
  },
  {
   "cell_type": "code",
   "execution_count": 8,
   "metadata": {
    "scrolled": true
   },
   "outputs": [
    {
     "data": {
      "text/html": [
       "<pre>recommendations finished on 1000/1650 queries. users per second: 59623.2</pre>"
      ],
      "text/plain": [
       "recommendations finished on 1000/1650 queries. users per second: 59623.2"
      ]
     },
     "metadata": {},
     "output_type": "display_data"
    },
    {
     "data": {
      "text/html": [
       "<pre>recommendations finished on 1000/1650 queries. users per second: 32027.7</pre>"
      ],
      "text/plain": [
       "recommendations finished on 1000/1650 queries. users per second: 32027.7"
      ]
     },
     "metadata": {},
     "output_type": "display_data"
    },
    {
     "data": {
      "text/html": [
       "<pre>recommendations finished on 1000/1650 queries. users per second: 203791</pre>"
      ],
      "text/plain": [
       "recommendations finished on 1000/1650 queries. users per second: 203791"
      ]
     },
     "metadata": {},
     "output_type": "display_data"
    },
    {
     "name": "stdout",
     "output_type": "stream",
     "text": [
      "Item Similarity Filtering Model\n",
      "+---------+----------+-----------------+------+\n",
      "| user_id | movie_id |      score      | rank |\n",
      "+---------+----------+-----------------+------+\n",
      "|    1    |   551    | 0.0752465760739 |  1   |\n",
      "|    1    |   474    | 0.0685495279788 |  2   |\n",
      "|    1    |   666    | 0.0682896051955 |  3   |\n",
      "|    1    |   774    | 0.0626353159275 |  4   |\n",
      "|    1    |   846    | 0.0571808460176 |  5   |\n",
      "+---------+----------+-----------------+------+\n",
      "[5 rows x 4 columns]\n",
      "\n",
      "Factorization Recommenders Model\n",
      "+---------+----------+---------------+------+\n",
      "| user_id | movie_id |     score     | rank |\n",
      "+---------+----------+---------------+------+\n",
      "|    1    |   304    | 4.63659710689 |  1   |\n",
      "|    1    |   810    | 4.59536202691 |  2   |\n",
      "|    1    |   565    | 4.43176933072 |  3   |\n",
      "|    1    |   849    | 4.42326534978 |  4   |\n",
      "|    1    |   351    | 4.35643856666 |  5   |\n",
      "+---------+----------+---------------+------+\n",
      "[5 rows x 4 columns]\n",
      "\n",
      "Popularity Recommender Model\n",
      "+---------+----------+---------------+------+\n",
      "| user_id | movie_id |     score     | rank |\n",
      "+---------+----------+---------------+------+\n",
      "|    1    |   849    | 4.86956521739 |  1   |\n",
      "|    1    |   688    | 4.83333333333 |  2   |\n",
      "|    1    |   225    |      4.8      |  3   |\n",
      "|    1    |   507    | 4.72413793103 |  4   |\n",
      "|    1    |   628    |  4.7037037037 |  5   |\n",
      "+---------+----------+---------------+------+\n",
      "[5 rows x 4 columns]\n",
      "\n"
     ]
    }
   ],
   "source": [
    "IR = ISF.recommend()\n",
    "FR = Factor.recommend()\n",
    "PR = POP.recommend()\n",
    "\n",
    "print \"Item Similarity Filtering Model\"\n",
    "print IR.head(5)\n",
    "print \"Factorization Recommenders Model\"\n",
    "print FR.head(5)\n",
    "print \"Popularity Recommender Model\"\n",
    "print PR.head(5)\n"
   ]
  },
  {
   "cell_type": "markdown",
   "metadata": {},
   "source": [
    "### Evaluate your model"
   ]
  },
  {
   "cell_type": "markdown",
   "metadata": {},
   "source": [
    "#### Step 1: Calculate RMSE Score for Three Models\n",
    "\n",
    "---\n",
    "\n",
    "**RMSE : Root Mean Squared Error**\n",
    "\n",
    "Write outcomes about rmse scores for each recommender model. Compare results in your report."
   ]
  },
  {
   "cell_type": "code",
   "execution_count": 9,
   "metadata": {
    "scrolled": true
   },
   "outputs": [
    {
     "name": "stdout",
     "output_type": "stream",
     "text": [
      "Similarity Error\n",
      "{'rmse_by_user': Columns:\n",
      "\tuser_id\tint\n",
      "\tcount\tint\n",
      "\trmse\tfloat\n",
      "\n",
      "Rows: 1410\n",
      "\n",
      "Data:\n",
      "+---------+-------+----------------+\n",
      "| user_id | count |      rmse      |\n",
      "+---------+-------+----------------+\n",
      "|   118   |   53  | 3.24815511648  |\n",
      "|   1029  |   2   | 0.930541907482 |\n",
      "|   435   |   48  | 4.22745878612  |\n",
      "|   1517  |   2   | 3.11744251663  |\n",
      "|   537   |   4   | 3.51436717264  |\n",
      "|   526   |   24  | 3.87446498868  |\n",
      "|   232   |   23  | 3.30854299714  |\n",
      "|   310   |   21  | 3.80563802163  |\n",
      "|    49   |   17  | 3.35636912147  |\n",
      "|    13   |   50  |  3.5388918241  |\n",
      "+---------+-------+----------------+\n",
      "[1410 rows x 3 columns]\n",
      "Note: Only the head of the SFrame is printed.\n",
      "You can use print_rows(num_rows=m, num_columns=n) to print more rows and columns., 'rmse_by_item': Columns:\n",
      "\tmovie_id\tint\n",
      "\tcount\tint\n",
      "\trmse\tfloat\n",
      "\n",
      "Rows: 459\n",
      "\n",
      "Data:\n",
      "+----------+-------+---------------+\n",
      "| movie_id | count |      rmse     |\n",
      "+----------+-------+---------------+\n",
      "|   118    |   29  | 4.72959598454 |\n",
      "|   435    |   32  | 3.43000121471 |\n",
      "|   232    |   46  | 4.01986899397 |\n",
      "|   310    |   17  | 4.20780425145 |\n",
      "|    49    |  108  | 2.89439199394 |\n",
      "|    13    |  263  |  3.3379192722 |\n",
      "|   363    |  102  | 3.19576705038 |\n",
      "|    60    |   89  | 4.05881700638 |\n",
      "|   431    |   3   | 3.97392458543 |\n",
      "|   187    |   22  |   4.0041531   |\n",
      "+----------+-------+---------------+\n",
      "[459 rows x 3 columns]\n",
      "Note: Only the head of the SFrame is printed.\n",
      "You can use print_rows(num_rows=m, num_columns=n) to print more rows and columns., 'rmse_overall': 3.707966417028453}\n",
      "Factor Error\n",
      "{'rmse_by_user': Columns:\n",
      "\tuser_id\tint\n",
      "\tcount\tint\n",
      "\trmse\tfloat\n",
      "\n",
      "Rows: 1410\n",
      "\n",
      "Data:\n",
      "+---------+-------+----------------+\n",
      "| user_id | count |      rmse      |\n",
      "+---------+-------+----------------+\n",
      "|   118   |   53  | 1.02659593891  |\n",
      "|   1029  |   2   | 1.03914752442  |\n",
      "|   435   |   48  | 0.730907033392 |\n",
      "|   1517  |   2   | 1.25090328953  |\n",
      "|   537   |   4   | 0.916010532435 |\n",
      "|   526   |   24  | 1.24814495431  |\n",
      "|   232   |   23  | 0.701274789382 |\n",
      "|   310   |   21  | 1.05267410913  |\n",
      "|    49   |   17  | 0.638942783957 |\n",
      "|    13   |   50  | 1.32291844961  |\n",
      "+---------+-------+----------------+\n",
      "[1410 rows x 3 columns]\n",
      "Note: Only the head of the SFrame is printed.\n",
      "You can use print_rows(num_rows=m, num_columns=n) to print more rows and columns., 'rmse_by_item': Columns:\n",
      "\tmovie_id\tint\n",
      "\tcount\tint\n",
      "\trmse\tfloat\n",
      "\n",
      "Rows: 459\n",
      "\n",
      "Data:\n",
      "+----------+-------+----------------+\n",
      "| movie_id | count |      rmse      |\n",
      "+----------+-------+----------------+\n",
      "|   118    |   29  | 0.624503919455 |\n",
      "|   435    |   32  | 0.925290541721 |\n",
      "|   232    |   46  | 1.08959263839  |\n",
      "|   310    |   17  | 1.87753330517  |\n",
      "|    49    |  108  | 1.22355110477  |\n",
      "|    13    |  263  | 1.42917662857  |\n",
      "|   363    |  102  | 1.15651490891  |\n",
      "|    60    |   89  | 0.731285740105 |\n",
      "|   431    |   3   | 0.480221073064 |\n",
      "|   187    |   22  |  1.1085721917  |\n",
      "+----------+-------+----------------+\n",
      "[459 rows x 3 columns]\n",
      "Note: Only the head of the SFrame is printed.\n",
      "You can use print_rows(num_rows=m, num_columns=n) to print more rows and columns., 'rmse_overall': 1.07757192774633}\n",
      "Popularity Error\n",
      "{'rmse_by_user': Columns:\n",
      "\tuser_id\tint\n",
      "\tcount\tint\n",
      "\trmse\tfloat\n",
      "\n",
      "Rows: 1410\n",
      "\n",
      "Data:\n",
      "+---------+-------+----------------+\n",
      "| user_id | count |      rmse      |\n",
      "+---------+-------+----------------+\n",
      "|   118   |   53  | 1.11930078227  |\n",
      "|   1029  |   2   | 1.55772144569  |\n",
      "|   435   |   48  | 0.901142172732 |\n",
      "|   1517  |   2   | 1.32953770522  |\n",
      "|   537   |   4   | 0.505795339551 |\n",
      "|   526   |   24  | 1.00083941639  |\n",
      "|   232   |   23  | 0.96165445634  |\n",
      "|   310   |   21  | 1.05243877124  |\n",
      "|    49   |   17  | 0.79845153914  |\n",
      "|    13   |   50  | 0.875388663161 |\n",
      "+---------+-------+----------------+\n",
      "[1410 rows x 3 columns]\n",
      "Note: Only the head of the SFrame is printed.\n",
      "You can use print_rows(num_rows=m, num_columns=n) to print more rows and columns., 'rmse_by_item': Columns:\n",
      "\tmovie_id\tint\n",
      "\tcount\tint\n",
      "\trmse\tfloat\n",
      "\n",
      "Rows: 459\n",
      "\n",
      "Data:\n",
      "+----------+-------+----------------+\n",
      "| movie_id | count |      rmse      |\n",
      "+----------+-------+----------------+\n",
      "|   118    |   29  | 0.650474844149 |\n",
      "|   435    |   32  | 1.03116143677  |\n",
      "|   232    |   46  | 0.928644801821 |\n",
      "|   310    |   17  | 1.53392997769  |\n",
      "|    49    |  108  | 1.19331891039  |\n",
      "|    13    |  263  | 1.41005178912  |\n",
      "|   363    |  102  | 1.22045003307  |\n",
      "|    60    |   89  | 0.645390838795 |\n",
      "|   431    |   3   | 0.722222222222 |\n",
      "|   187    |   22  | 1.11126095596  |\n",
      "+----------+-------+----------------+\n",
      "[459 rows x 3 columns]\n",
      "Note: Only the head of the SFrame is printed.\n",
      "You can use print_rows(num_rows=m, num_columns=n) to print more rows and columns., 'rmse_overall': 1.062995127656134}\n"
     ]
    }
   ],
   "source": [
    "IE = ISF.evaluate_rmse(analysisTest, target='rating')\n",
    "FE = Factor.evaluate_rmse(analysisTest, target='rating')\n",
    "PE = POP.evaluate_rmse(analysisTest, target='rating')\n",
    "\n",
    "print \"Similarity Error\"\n",
    "print IE\n",
    "print \"Factor Error\"\n",
    "print FE\n",
    "print \"Popularity Error\"\n",
    "print PE"
   ]
  },
  {
   "cell_type": "markdown",
   "metadata": {},
   "source": [
    "#### Step 2: Report Confusion Matrix Metrics, Precision and Recall\n",
    "\n",
    "---\n",
    "\n",
    "Precision and Recall are two metrices to evaluate the performance of recommender model. Compare and report all three recommender models according to their precision and recall scores."
   ]
  },
  {
   "cell_type": "code",
   "execution_count": 10,
   "metadata": {},
   "outputs": [
    {
     "data": {
      "text/html": [
       "<pre>recommendations finished on 1000/1410 queries. users per second: 41301.8</pre>"
      ],
      "text/plain": [
       "recommendations finished on 1000/1410 queries. users per second: 41301.8"
      ]
     },
     "metadata": {},
     "output_type": "display_data"
    },
    {
     "data": {
      "text/html": [
       "<pre>recommendations finished on 1000/1410 queries. users per second: 23755.2</pre>"
      ],
      "text/plain": [
       "recommendations finished on 1000/1410 queries. users per second: 23755.2"
      ]
     },
     "metadata": {},
     "output_type": "display_data"
    },
    {
     "data": {
      "text/html": [
       "<pre>recommendations finished on 1000/1410 queries. users per second: 95520.1</pre>"
      ],
      "text/plain": [
       "recommendations finished on 1000/1410 queries. users per second: 95520.1"
      ]
     },
     "metadata": {},
     "output_type": "display_data"
    },
    {
     "name": "stdout",
     "output_type": "stream",
     "text": [
      "Similarity Error\n",
      "{'precision_recall_overall': Columns:\n",
      "\tcutoff\tint\n",
      "\tprecision\tfloat\n",
      "\trecall\tfloat\n",
      "\n",
      "Rows: 18\n",
      "\n",
      "Data:\n",
      "+--------+-------------------+-------------------+\n",
      "| cutoff |     precision     |       recall      |\n",
      "+--------+-------------------+-------------------+\n",
      "|   1    | 0.000709219858156 | 7.16383695107e-06 |\n",
      "|   2    |  0.00106382978723 | 0.000137595075233 |\n",
      "|   3    |  0.00189125295508 | 0.000221673304876 |\n",
      "|   4    |  0.00177304964539 | 0.000240276171797 |\n",
      "|   5    |  0.00212765957447 | 0.000295347553613 |\n",
      "|   6    |  0.00271867612293 | 0.000723083657904 |\n",
      "|   7    |  0.00293819655522 |  0.00134629569841 |\n",
      "|   8    |  0.0031914893617  |  0.00214085072577 |\n",
      "|   9    |  0.00346729708432 |  0.0023720203339  |\n",
      "|   10   |  0.00418439716312 |  0.00311387849983 |\n",
      "+--------+-------------------+-------------------+\n",
      "[18 rows x 3 columns]\n",
      "Note: Only the head of the SFrame is printed.\n",
      "You can use print_rows(num_rows=m, num_columns=n) to print more rows and columns., 'precision_recall_by_user': Columns:\n",
      "\tuser_id\tint\n",
      "\tcutoff\tint\n",
      "\tprecision\tfloat\n",
      "\trecall\tfloat\n",
      "\tcount\tint\n",
      "\n",
      "Rows: 25380\n",
      "\n",
      "Data:\n",
      "+---------+--------+-----------+--------+-------+\n",
      "| user_id | cutoff | precision | recall | count |\n",
      "+---------+--------+-----------+--------+-------+\n",
      "|    1    |   1    |    0.0    |  0.0   |   69  |\n",
      "|    1    |   2    |    0.0    |  0.0   |   69  |\n",
      "|    1    |   3    |    0.0    |  0.0   |   69  |\n",
      "|    1    |   4    |    0.0    |  0.0   |   69  |\n",
      "|    1    |   5    |    0.0    |  0.0   |   69  |\n",
      "|    1    |   6    |    0.0    |  0.0   |   69  |\n",
      "|    1    |   7    |    0.0    |  0.0   |   69  |\n",
      "|    1    |   8    |    0.0    |  0.0   |   69  |\n",
      "|    1    |   9    |    0.0    |  0.0   |   69  |\n",
      "|    1    |   10   |    0.0    |  0.0   |   69  |\n",
      "+---------+--------+-----------+--------+-------+\n",
      "[25380 rows x 5 columns]\n",
      "Note: Only the head of the SFrame is printed.\n",
      "You can use print_rows(num_rows=m, num_columns=n) to print more rows and columns.}\n",
      "Factor Error\n",
      "{'precision_recall_overall': Columns:\n",
      "\tcutoff\tint\n",
      "\tprecision\tfloat\n",
      "\trecall\tfloat\n",
      "\n",
      "Rows: 18\n",
      "\n",
      "Data:\n",
      "+--------+------------------+-------------------+\n",
      "| cutoff |    precision     |       recall      |\n",
      "+--------+------------------+-------------------+\n",
      "|   1    | 0.00496453900709 | 0.000562133162142 |\n",
      "|   2    | 0.00248226950355 | 0.000562133162142 |\n",
      "|   3    | 0.00354609929078 |  0.00128087149863 |\n",
      "|   4    | 0.0040780141844  |  0.00175418633414 |\n",
      "|   5    | 0.0041134751773  |  0.00195100030324 |\n",
      "|   6    | 0.00437352245863 |  0.0021845569836  |\n",
      "|   7    | 0.00547112462006 |  0.00301732924932 |\n",
      "|   8    | 0.00602836879433 |  0.00368698699352 |\n",
      "|   9    | 0.00740740740741 |  0.00431271826753 |\n",
      "|   10   | 0.00872340425532 |  0.00618123333653 |\n",
      "+--------+------------------+-------------------+\n",
      "[18 rows x 3 columns]\n",
      "Note: Only the head of the SFrame is printed.\n",
      "You can use print_rows(num_rows=m, num_columns=n) to print more rows and columns., 'precision_recall_by_user': Columns:\n",
      "\tuser_id\tint\n",
      "\tcutoff\tint\n",
      "\tprecision\tfloat\n",
      "\trecall\tfloat\n",
      "\tcount\tint\n",
      "\n",
      "Rows: 25380\n",
      "\n",
      "Data:\n",
      "+---------+--------+-----------+--------+-------+\n",
      "| user_id | cutoff | precision | recall | count |\n",
      "+---------+--------+-----------+--------+-------+\n",
      "|    1    |   1    |    0.0    |  0.0   |   69  |\n",
      "|    1    |   2    |    0.0    |  0.0   |   69  |\n",
      "|    1    |   3    |    0.0    |  0.0   |   69  |\n",
      "|    1    |   4    |    0.0    |  0.0   |   69  |\n",
      "|    1    |   5    |    0.0    |  0.0   |   69  |\n",
      "|    1    |   6    |    0.0    |  0.0   |   69  |\n",
      "|    1    |   7    |    0.0    |  0.0   |   69  |\n",
      "|    1    |   8    |    0.0    |  0.0   |   69  |\n",
      "|    1    |   9    |    0.0    |  0.0   |   69  |\n",
      "|    1    |   10   |    0.0    |  0.0   |   69  |\n",
      "+---------+--------+-----------+--------+-------+\n",
      "[25380 rows x 5 columns]\n",
      "Note: Only the head of the SFrame is printed.\n",
      "You can use print_rows(num_rows=m, num_columns=n) to print more rows and columns.}\n",
      "Popularity Error\n",
      "{'precision_recall_overall': Columns:\n",
      "\tcutoff\tint\n",
      "\tprecision\tfloat\n",
      "\trecall\tfloat\n",
      "\n",
      "Rows: 18\n",
      "\n",
      "Data:\n",
      "+--------+------------------+-------------------+\n",
      "| cutoff |    precision     |       recall      |\n",
      "+--------+------------------+-------------------+\n",
      "|   1    |       0.0        |        0.0        |\n",
      "|   2    | 0.00425531914894 | 0.000933028865607 |\n",
      "|   3    | 0.00283687943262 | 0.000933028865607 |\n",
      "|   4    | 0.00265957446809 | 0.000976626134076 |\n",
      "|   5    | 0.00652482269504 |  0.00222017363449 |\n",
      "|   6    | 0.00579196217494 |  0.00234831078543 |\n",
      "|   7    | 0.00557244174265 |  0.00243404883419 |\n",
      "|   8    | 0.00629432624113 |  0.00281930335521 |\n",
      "|   9    | 0.0059889676911  |  0.00296560886371 |\n",
      "|   10   | 0.00574468085106 |  0.00304532132873 |\n",
      "+--------+------------------+-------------------+\n",
      "[18 rows x 3 columns]\n",
      "Note: Only the head of the SFrame is printed.\n",
      "You can use print_rows(num_rows=m, num_columns=n) to print more rows and columns., 'precision_recall_by_user': Columns:\n",
      "\tuser_id\tint\n",
      "\tcutoff\tint\n",
      "\tprecision\tfloat\n",
      "\trecall\tfloat\n",
      "\tcount\tint\n",
      "\n",
      "Rows: 25380\n",
      "\n",
      "Data:\n",
      "+---------+--------+-----------+--------+-------+\n",
      "| user_id | cutoff | precision | recall | count |\n",
      "+---------+--------+-----------+--------+-------+\n",
      "|    1    |   1    |    0.0    |  0.0   |   69  |\n",
      "|    1    |   2    |    0.0    |  0.0   |   69  |\n",
      "|    1    |   3    |    0.0    |  0.0   |   69  |\n",
      "|    1    |   4    |    0.0    |  0.0   |   69  |\n",
      "|    1    |   5    |    0.0    |  0.0   |   69  |\n",
      "|    1    |   6    |    0.0    |  0.0   |   69  |\n",
      "|    1    |   7    |    0.0    |  0.0   |   69  |\n",
      "|    1    |   8    |    0.0    |  0.0   |   69  |\n",
      "|    1    |   9    |    0.0    |  0.0   |   69  |\n",
      "|    1    |   10   |    0.0    |  0.0   |   69  |\n",
      "+---------+--------+-----------+--------+-------+\n",
      "[25380 rows x 5 columns]\n",
      "Note: Only the head of the SFrame is printed.\n",
      "You can use print_rows(num_rows=m, num_columns=n) to print more rows and columns.}\n"
     ]
    }
   ],
   "source": [
    "IEPR = ISF.evaluate_precision_recall(analysisTest)\n",
    "FEPR = Factor.evaluate_precision_recall(analysisTest)\n",
    "PEPR = POP.evaluate_precision_recall(analysisTest)\n",
    "\n",
    "print \"Similarity Error\"\n",
    "print IEPR\n",
    "print \"Factor Error\"\n",
    "print FEPR\n",
    "print \"Popularity Error\"\n",
    "print PEPR"
   ]
  },
  {
   "cell_type": "markdown",
   "metadata": {},
   "source": [
    "### Final Report\n",
    "\n",
    "---\n",
    "\n",
    "Summary the whole process. What did you understand? What kind of actions that may increase the accuracy of recommender models? Write some suggestions."
   ]
  },
  {
   "cell_type": "code",
   "execution_count": null,
   "metadata": {},
   "outputs": [],
   "source": []
  },
  {
   "cell_type": "markdown",
   "metadata": {},
   "source": [
    "## Submission\n",
    "\n",
    "---\n",
    "\n",
    "You need to submit your source code as .py file or .ipynb (ipython notebook). The report of your study should be in .pdf format. Take snapshots of the results that you get in each step of the project and explain your outcomes below of these snap."
   ]
  },
  {
   "cell_type": "code",
   "execution_count": null,
   "metadata": {},
   "outputs": [],
   "source": []
  },
  {
   "cell_type": "code",
   "execution_count": null,
   "metadata": {},
   "outputs": [],
   "source": []
  },
  {
   "cell_type": "code",
   "execution_count": null,
   "metadata": {},
   "outputs": [],
   "source": []
  }
 ],
 "metadata": {
  "kernelspec": {
   "display_name": "Python 2",
   "language": "python",
   "name": "python2"
  },
  "language_info": {
   "codemirror_mode": {
    "name": "ipython",
    "version": 2
   },
   "file_extension": ".py",
   "mimetype": "text/x-python",
   "name": "python",
   "nbconvert_exporter": "python",
   "pygments_lexer": "ipython2",
   "version": "2.7.14"
  }
 },
 "nbformat": 4,
 "nbformat_minor": 2
}
