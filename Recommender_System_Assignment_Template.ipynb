{
 "cells": [
  {
   "cell_type": "markdown",
   "metadata": {},
   "source": [
    "# Building Movie Recommender System"
   ]
  },
  {
   "cell_type": "markdown",
   "metadata": {},
   "source": [
    "### Steps of the Project\n",
    " - Import Required Libraries\n",
    " - Import data\n",
    " - Visualize the data (__Optional__)\n",
    " - Create a Recommender Model\n",
    "     - Prepare dataset (<i>K-fold cross validation for train-test-validation dataset splitting</i>)\n",
    " - Apply Recommender Algorithms\n",
    "     - Popularity Recommender Model\n",
    "     - Collaborative Filtering Model\n",
    "     - Item Similarity Filtering Model\n",
    " - Get Top-K Recommendations for three models\n",
    " - Evaluate your models : RMSE (Root Mean Squared Error)\n",
    " - Get Confusion Matrix Results : Precision/Recall metrics\n",
    " - Report the results\n",
    "     - Which model is the best fit for this dataset?\n",
    "     - What are the top-k recommendations for each model?\n",
    "     - Evaluation Results : Which model has the best performance for recommending?"
   ]
  },
  {
   "cell_type": "markdown",
   "metadata": {},
   "source": [
    "### Import Required Libraries\n",
    "\n",
    "---\n",
    "\n",
    "Since you will use Python programming language to implement this project, Python ecosystem has many recommender system libraries that you can use. [Turi Create](https://github.com/apple/turicreate) is one of them and highly recommended library that you can easily use for this project."
   ]
  },
  {
   "cell_type": "code",
   "execution_count": 2,
   "metadata": {},
   "outputs": [],
   "source": [
    "import pandas as pd\n",
    "import turicreate as tc"
   ]
  },
  {
   "cell_type": "markdown",
   "metadata": {},
   "source": [
    "### Visualize Dataset\n",
    "\n",
    "---\n",
    "\n",
    "Sometimes to understand the big picture of the dataset, you may want to check some visualizations to decide which algorithm would fit to solve your problem."
   ]
  },
  {
   "cell_type": "code",
   "execution_count": 3,
   "metadata": {},
   "outputs": [],
   "source": [
    "ratingsCols = ['userID', 'movieID', 'rating']\n",
    "ratings = pd.read_csv('ml-100k/u.data', sep='\\t', names=ratingsCols, usecols=range(3))\n",
    "\n",
    "moviesCols = ['movieID', 'title']\n",
    "movies = pd.read_csv('ml-100k/u.item', sep='|', names=moviesCols, usecols=range(2))\n",
    "\n"
   ]
  },
  {
   "cell_type": "markdown",
   "metadata": {},
   "source": [
    "### Import Dataset\n",
    "\n",
    "---\n",
    "\n",
    "Movie Review [dataset](https://grouplens.org/datasets/movielens/100k/) will be used for this project. After you download the dataset, you can import to your project by using [Pandas](http://pandas.pydata.org/) Python Data Analysis library. For more info check [here](https://pandas.pydata.org/pandas-docs/stable/io.html)."
   ]
  },
  {
   "cell_type": "code",
   "execution_count": 4,
   "metadata": {},
   "outputs": [
    {
     "data": {
      "text/html": [
       "<div>\n",
       "<style scoped>\n",
       "    .dataframe tbody tr th:only-of-type {\n",
       "        vertical-align: middle;\n",
       "    }\n",
       "\n",
       "    .dataframe tbody tr th {\n",
       "        vertical-align: top;\n",
       "    }\n",
       "\n",
       "    .dataframe thead th {\n",
       "        text-align: right;\n",
       "    }\n",
       "</style>\n",
       "<table border=\"1\" class=\"dataframe\">\n",
       "  <thead>\n",
       "    <tr style=\"text-align: right;\">\n",
       "      <th></th>\n",
       "      <th>movieID</th>\n",
       "      <th>title</th>\n",
       "      <th>userID</th>\n",
       "      <th>rating</th>\n",
       "    </tr>\n",
       "  </thead>\n",
       "  <tbody>\n",
       "    <tr>\n",
       "      <th>0</th>\n",
       "      <td>1</td>\n",
       "      <td>Toy Story (1995)</td>\n",
       "      <td>308</td>\n",
       "      <td>4</td>\n",
       "    </tr>\n",
       "    <tr>\n",
       "      <th>1</th>\n",
       "      <td>1</td>\n",
       "      <td>Toy Story (1995)</td>\n",
       "      <td>287</td>\n",
       "      <td>5</td>\n",
       "    </tr>\n",
       "    <tr>\n",
       "      <th>2</th>\n",
       "      <td>1</td>\n",
       "      <td>Toy Story (1995)</td>\n",
       "      <td>148</td>\n",
       "      <td>4</td>\n",
       "    </tr>\n",
       "    <tr>\n",
       "      <th>3</th>\n",
       "      <td>1</td>\n",
       "      <td>Toy Story (1995)</td>\n",
       "      <td>280</td>\n",
       "      <td>4</td>\n",
       "    </tr>\n",
       "    <tr>\n",
       "      <th>4</th>\n",
       "      <td>1</td>\n",
       "      <td>Toy Story (1995)</td>\n",
       "      <td>66</td>\n",
       "      <td>3</td>\n",
       "    </tr>\n",
       "    <tr>\n",
       "      <th>5</th>\n",
       "      <td>1</td>\n",
       "      <td>Toy Story (1995)</td>\n",
       "      <td>5</td>\n",
       "      <td>4</td>\n",
       "    </tr>\n",
       "    <tr>\n",
       "      <th>6</th>\n",
       "      <td>1</td>\n",
       "      <td>Toy Story (1995)</td>\n",
       "      <td>109</td>\n",
       "      <td>4</td>\n",
       "    </tr>\n",
       "    <tr>\n",
       "      <th>7</th>\n",
       "      <td>1</td>\n",
       "      <td>Toy Story (1995)</td>\n",
       "      <td>181</td>\n",
       "      <td>3</td>\n",
       "    </tr>\n",
       "    <tr>\n",
       "      <th>8</th>\n",
       "      <td>1</td>\n",
       "      <td>Toy Story (1995)</td>\n",
       "      <td>95</td>\n",
       "      <td>5</td>\n",
       "    </tr>\n",
       "    <tr>\n",
       "      <th>9</th>\n",
       "      <td>1</td>\n",
       "      <td>Toy Story (1995)</td>\n",
       "      <td>268</td>\n",
       "      <td>3</td>\n",
       "    </tr>\n",
       "  </tbody>\n",
       "</table>\n",
       "</div>"
      ],
      "text/plain": [
       "   movieID             title  userID  rating\n",
       "0        1  Toy Story (1995)     308       4\n",
       "1        1  Toy Story (1995)     287       5\n",
       "2        1  Toy Story (1995)     148       4\n",
       "3        1  Toy Story (1995)     280       4\n",
       "4        1  Toy Story (1995)      66       3\n",
       "5        1  Toy Story (1995)       5       4\n",
       "6        1  Toy Story (1995)     109       4\n",
       "7        1  Toy Story (1995)     181       3\n",
       "8        1  Toy Story (1995)      95       5\n",
       "9        1  Toy Story (1995)     268       3"
      ]
     },
     "execution_count": 4,
     "metadata": {},
     "output_type": "execute_result"
    }
   ],
   "source": [
    "analysis = pd.merge(movies, ratings)\n",
    "analysis.head(10)"
   ]
  },
  {
   "cell_type": "markdown",
   "metadata": {},
   "source": [
    "### Create a Recommender Model\n",
    "\n",
    "---\n",
    "A recommender system allows you to build personalized recommendation systems to users. There are many methods to do this. In this project, you will need to use three of these methods which are __popularity-based recommender model__ , __factorization recommenders model__ , and __item similarity model__ . \n",
    "\n",
    "[Turi](https://github.com/apple/turicreate) has easy-to-implement recommender models. You can use Turi's recommender models for your dataset. For more information check [here](https://apple.github.io/turicreate/docs/api/turicreate.toolkits.recommender.html#creating-a-recommender)\n",
    "<br>\n",
    "\n",
    "The steps of building a recommender system are;\n",
    " - Do not forget to convert your dataset to [SFrame](https://apple.github.io/turicreate/docs/api/generated/turicreate.SFrame.html#turicreate.SFrame) type. Also split the dataset for training, testing, and validation processes. [Write code here](#Convert-dataset-to-SFrame)\n",
    " - Create and Apply each model to your dataset. (In this assignment, you will use three different methods as listed above) [Write code here](#Create-and-Apply-Recommender-Algorithms).\n",
    " - Find top k recommendations. (Display top k=5 recommendations and check the scores of them.)[Write code here](#Get-Top-K-Recommendations-for-Three-Models)\n",
    " - Evaluate your model. (Check your model with confusion matrix metrics and find how accurate your model is to recommend movies to users.)[Write code here](#Evaluate-your-model)"
   ]
  },
  {
   "cell_type": "markdown",
   "metadata": {},
   "source": [
    "### Convert dataset to SFrame"
   ]
  },
  {
   "cell_type": "code",
   "execution_count": 19,
   "metadata": {
    "scrolled": true
   },
   "outputs": [
    {
     "data": {
      "text/html": [
       "<pre>Finished parsing file /home/ubuntu/Documents/RecommenderSystemAsg/ml-100k/u1.base</pre>"
      ],
      "text/plain": [
       "Finished parsing file /home/ubuntu/Documents/RecommenderSystemAsg/ml-100k/u1.base"
      ]
     },
     "metadata": {},
     "output_type": "display_data"
    },
    {
     "data": {
      "text/html": [
       "<pre>Parsing completed. Parsed 100 lines in 0.305215 secs.</pre>"
      ],
      "text/plain": [
       "Parsing completed. Parsed 100 lines in 0.305215 secs."
      ]
     },
     "metadata": {},
     "output_type": "display_data"
    },
    {
     "name": "stdout",
     "output_type": "stream",
     "text": [
      "------------------------------------------------------\n",
      "Inferred types from first 100 line(s) of file as \n",
      "column_type_hints=[int,int,int]\n",
      "If parsing fails due to incorrect types, you can correct\n",
      "the inferred type list above and pass it to read_csv in\n",
      "the column_type_hints argument\n",
      "------------------------------------------------------\n"
     ]
    },
    {
     "data": {
      "text/html": [
       "<pre>Finished parsing file /home/ubuntu/Documents/RecommenderSystemAsg/ml-100k/u1.base</pre>"
      ],
      "text/plain": [
       "Finished parsing file /home/ubuntu/Documents/RecommenderSystemAsg/ml-100k/u1.base"
      ]
     },
     "metadata": {},
     "output_type": "display_data"
    },
    {
     "data": {
      "text/html": [
       "<pre>Parsing completed. Parsed 80000 lines in 0.377698 secs.</pre>"
      ],
      "text/plain": [
       "Parsing completed. Parsed 80000 lines in 0.377698 secs."
      ]
     },
     "metadata": {},
     "output_type": "display_data"
    },
    {
     "data": {
      "text/html": [
       "<pre>Finished parsing file /home/ubuntu/Documents/RecommenderSystemAsg/ml-100k/u.item</pre>"
      ],
      "text/plain": [
       "Finished parsing file /home/ubuntu/Documents/RecommenderSystemAsg/ml-100k/u.item"
      ]
     },
     "metadata": {},
     "output_type": "display_data"
    },
    {
     "data": {
      "text/html": [
       "<pre>Parsing completed. Parsed 100 lines in 0.117888 secs.</pre>"
      ],
      "text/plain": [
       "Parsing completed. Parsed 100 lines in 0.117888 secs."
      ]
     },
     "metadata": {},
     "output_type": "display_data"
    },
    {
     "name": "stdout",
     "output_type": "stream",
     "text": [
      "------------------------------------------------------\n",
      "Inferred types from first 100 line(s) of file as \n",
      "column_type_hints=[int,str]\n",
      "If parsing fails due to incorrect types, you can correct\n",
      "the inferred type list above and pass it to read_csv in\n",
      "the column_type_hints argument\n",
      "------------------------------------------------------\n"
     ]
    },
    {
     "data": {
      "text/html": [
       "<pre>Finished parsing file /home/ubuntu/Documents/RecommenderSystemAsg/ml-100k/u.item</pre>"
      ],
      "text/plain": [
       "Finished parsing file /home/ubuntu/Documents/RecommenderSystemAsg/ml-100k/u.item"
      ]
     },
     "metadata": {},
     "output_type": "display_data"
    },
    {
     "data": {
      "text/html": [
       "<pre>Parsing completed. Parsed 1682 lines in 0.116936 secs.</pre>"
      ],
      "text/plain": [
       "Parsing completed. Parsed 1682 lines in 0.116936 secs."
      ]
     },
     "metadata": {},
     "output_type": "display_data"
    },
    {
     "data": {
      "text/html": [
       "<pre>Finished parsing file /home/ubuntu/Documents/RecommenderSystemAsg/ml-100k/u1.test</pre>"
      ],
      "text/plain": [
       "Finished parsing file /home/ubuntu/Documents/RecommenderSystemAsg/ml-100k/u1.test"
      ]
     },
     "metadata": {},
     "output_type": "display_data"
    },
    {
     "data": {
      "text/html": [
       "<pre>Parsing completed. Parsed 100 lines in 0.066263 secs.</pre>"
      ],
      "text/plain": [
       "Parsing completed. Parsed 100 lines in 0.066263 secs."
      ]
     },
     "metadata": {},
     "output_type": "display_data"
    },
    {
     "name": "stdout",
     "output_type": "stream",
     "text": [
      "------------------------------------------------------\n",
      "Inferred types from first 100 line(s) of file as \n",
      "column_type_hints=[int,int,int]\n",
      "If parsing fails due to incorrect types, you can correct\n",
      "the inferred type list above and pass it to read_csv in\n",
      "the column_type_hints argument\n",
      "------------------------------------------------------\n"
     ]
    },
    {
     "data": {
      "text/html": [
       "<pre>Finished parsing file /home/ubuntu/Documents/RecommenderSystemAsg/ml-100k/u1.test</pre>"
      ],
      "text/plain": [
       "Finished parsing file /home/ubuntu/Documents/RecommenderSystemAsg/ml-100k/u1.test"
      ]
     },
     "metadata": {},
     "output_type": "display_data"
    },
    {
     "data": {
      "text/html": [
       "<pre>Parsing completed. Parsed 20000 lines in 0.133265 secs.</pre>"
      ],
      "text/plain": [
       "Parsing completed. Parsed 20000 lines in 0.133265 secs."
      ]
     },
     "metadata": {},
     "output_type": "display_data"
    }
   ],
   "source": [
    "ratings = tc.SFrame.read_csv('ml-100k/u1.base', header=False, delimiter='\\t', usecols=['X1','X2','X3'])\n",
    "ratings = ratings.rename({'X1':'movie_id', 'X2':'user_id', 'X3':'rating'})\n",
    "\n",
    "movies = data = tc.SFrame.read_csv('ml-100k/u.item', header=False, delimiter='|', usecols=['X1', 'X2'])\n",
    "movies = movies.rename({'X1':'movie_id', 'X2':'title'})\n",
    "analysis = movies.join(ratings)\n",
    "analysis.head(10)\n",
    "\n",
    "\n",
    "ratingsTest = tc.SFrame.read_csv('ml-100k/u1.test', header=False, delimiter='\\t', usecols=['X1','X2','X3'])\n",
    "ratingsTest = ratingsTest.rename({'X1':'movie_id', 'X2':'user_id', 'X3':'rating'})\n",
    "analysisTest = movies.join(ratingsTest)"
   ]
  },
  {
   "cell_type": "markdown",
   "metadata": {},
   "source": [
    "### Create and Apply Recommender Algorithms\n",
    "\n",
    "---\n",
    "Implement three recommender algorithms;\n",
    " - __Popularity Recommender Model__,\n",
    " - __Factorization Recommenders Model__,\n",
    " - __Item Similarity Filtering Model__ .\n",
    " \n",
    " \n"
   ]
  },
  {
   "cell_type": "code",
   "execution_count": 20,
   "metadata": {},
   "outputs": [
    {
     "data": {
      "text/html": [
       "<pre>Recsys training: model = item_similarity</pre>"
      ],
      "text/plain": [
       "Recsys training: model = item_similarity"
      ]
     },
     "metadata": {},
     "output_type": "display_data"
    },
    {
     "data": {
      "text/html": [
       "<pre>Warning: Ignoring columns title;</pre>"
      ],
      "text/plain": [
       "Warning: Ignoring columns title;"
      ]
     },
     "metadata": {},
     "output_type": "display_data"
    },
    {
     "data": {
      "text/html": [
       "<pre>    To use these columns in scoring predictions, use a model that allows the use of additional features.</pre>"
      ],
      "text/plain": [
       "    To use these columns in scoring predictions, use a model that allows the use of additional features."
      ]
     },
     "metadata": {},
     "output_type": "display_data"
    },
    {
     "data": {
      "text/html": [
       "<pre>Preparing data set.</pre>"
      ],
      "text/plain": [
       "Preparing data set."
      ]
     },
     "metadata": {},
     "output_type": "display_data"
    },
    {
     "data": {
      "text/html": [
       "<pre>    Data has 80000 observations with 1650 users and 943 items.</pre>"
      ],
      "text/plain": [
       "    Data has 80000 observations with 1650 users and 943 items."
      ]
     },
     "metadata": {},
     "output_type": "display_data"
    },
    {
     "data": {
      "text/html": [
       "<pre>    Data prepared in: 0.622371s</pre>"
      ],
      "text/plain": [
       "    Data prepared in: 0.622371s"
      ]
     },
     "metadata": {},
     "output_type": "display_data"
    },
    {
     "data": {
      "text/html": [
       "<pre>Training model from provided data.</pre>"
      ],
      "text/plain": [
       "Training model from provided data."
      ]
     },
     "metadata": {},
     "output_type": "display_data"
    },
    {
     "data": {
      "text/html": [
       "<pre>Gathering per-item and per-user statistics.</pre>"
      ],
      "text/plain": [
       "Gathering per-item and per-user statistics."
      ]
     },
     "metadata": {},
     "output_type": "display_data"
    },
    {
     "data": {
      "text/html": [
       "<pre>+--------------------------------+------------+</pre>"
      ],
      "text/plain": [
       "+--------------------------------+------------+"
      ]
     },
     "metadata": {},
     "output_type": "display_data"
    },
    {
     "data": {
      "text/html": [
       "<pre>| Elapsed Time (Item Statistics) | % Complete |</pre>"
      ],
      "text/plain": [
       "| Elapsed Time (Item Statistics) | % Complete |"
      ]
     },
     "metadata": {},
     "output_type": "display_data"
    },
    {
     "data": {
      "text/html": [
       "<pre>+--------------------------------+------------+</pre>"
      ],
      "text/plain": [
       "+--------------------------------+------------+"
      ]
     },
     "metadata": {},
     "output_type": "display_data"
    },
    {
     "data": {
      "text/html": [
       "<pre>| 44.178ms                       | 60.5       |</pre>"
      ],
      "text/plain": [
       "| 44.178ms                       | 60.5       |"
      ]
     },
     "metadata": {},
     "output_type": "display_data"
    },
    {
     "data": {
      "text/html": [
       "<pre>| 44.661ms                       | 100        |</pre>"
      ],
      "text/plain": [
       "| 44.661ms                       | 100        |"
      ]
     },
     "metadata": {},
     "output_type": "display_data"
    },
    {
     "data": {
      "text/html": [
       "<pre>+--------------------------------+------------+</pre>"
      ],
      "text/plain": [
       "+--------------------------------+------------+"
      ]
     },
     "metadata": {},
     "output_type": "display_data"
    },
    {
     "data": {
      "text/html": [
       "<pre>Setting up lookup tables.</pre>"
      ],
      "text/plain": [
       "Setting up lookup tables."
      ]
     },
     "metadata": {},
     "output_type": "display_data"
    },
    {
     "data": {
      "text/html": [
       "<pre>Processing data in one pass using dense lookup tables.</pre>"
      ],
      "text/plain": [
       "Processing data in one pass using dense lookup tables."
      ]
     },
     "metadata": {},
     "output_type": "display_data"
    },
    {
     "data": {
      "text/html": [
       "<pre>+-------------------------------------+------------------+-----------------+</pre>"
      ],
      "text/plain": [
       "+-------------------------------------+------------------+-----------------+"
      ]
     },
     "metadata": {},
     "output_type": "display_data"
    },
    {
     "data": {
      "text/html": [
       "<pre>| Elapsed Time (Constructing Lookups) | Total % Complete | Items Processed |</pre>"
      ],
      "text/plain": [
       "| Elapsed Time (Constructing Lookups) | Total % Complete | Items Processed |"
      ]
     },
     "metadata": {},
     "output_type": "display_data"
    },
    {
     "data": {
      "text/html": [
       "<pre>+-------------------------------------+------------------+-----------------+</pre>"
      ],
      "text/plain": [
       "+-------------------------------------+------------------+-----------------+"
      ]
     },
     "metadata": {},
     "output_type": "display_data"
    },
    {
     "data": {
      "text/html": [
       "<pre>| 45.626ms                            | 1.25             | 12              |</pre>"
      ],
      "text/plain": [
       "| 45.626ms                            | 1.25             | 12              |"
      ]
     },
     "metadata": {},
     "output_type": "display_data"
    },
    {
     "data": {
      "text/html": [
       "<pre>| 964.329ms                           | 100              | 943             |</pre>"
      ],
      "text/plain": [
       "| 964.329ms                           | 100              | 943             |"
      ]
     },
     "metadata": {},
     "output_type": "display_data"
    },
    {
     "data": {
      "text/html": [
       "<pre>+-------------------------------------+------------------+-----------------+</pre>"
      ],
      "text/plain": [
       "+-------------------------------------+------------------+-----------------+"
      ]
     },
     "metadata": {},
     "output_type": "display_data"
    },
    {
     "data": {
      "text/html": [
       "<pre>Finalizing lookup tables.</pre>"
      ],
      "text/plain": [
       "Finalizing lookup tables."
      ]
     },
     "metadata": {},
     "output_type": "display_data"
    },
    {
     "data": {
      "text/html": [
       "<pre>Generating candidate set for working with new users.</pre>"
      ],
      "text/plain": [
       "Generating candidate set for working with new users."
      ]
     },
     "metadata": {},
     "output_type": "display_data"
    },
    {
     "data": {
      "text/html": [
       "<pre>Finished training in 1.01627s</pre>"
      ],
      "text/plain": [
       "Finished training in 1.01627s"
      ]
     },
     "metadata": {},
     "output_type": "display_data"
    },
    {
     "data": {
      "text/html": [
       "<pre>Recsys training: model = factorization_recommender</pre>"
      ],
      "text/plain": [
       "Recsys training: model = factorization_recommender"
      ]
     },
     "metadata": {},
     "output_type": "display_data"
    },
    {
     "data": {
      "text/html": [
       "<pre>Preparing data set.</pre>"
      ],
      "text/plain": [
       "Preparing data set."
      ]
     },
     "metadata": {},
     "output_type": "display_data"
    },
    {
     "data": {
      "text/html": [
       "<pre>    Data has 80000 observations with 1650 users and 943 items.</pre>"
      ],
      "text/plain": [
       "    Data has 80000 observations with 1650 users and 943 items."
      ]
     },
     "metadata": {},
     "output_type": "display_data"
    },
    {
     "data": {
      "text/html": [
       "<pre>    Data prepared in: 0.877152s</pre>"
      ],
      "text/plain": [
       "    Data prepared in: 0.877152s"
      ]
     },
     "metadata": {},
     "output_type": "display_data"
    },
    {
     "data": {
      "text/html": [
       "<pre>Training factorization_recommender for recommendations.</pre>"
      ],
      "text/plain": [
       "Training factorization_recommender for recommendations."
      ]
     },
     "metadata": {},
     "output_type": "display_data"
    },
    {
     "data": {
      "text/html": [
       "<pre>+--------------------------------+--------------------------------------------------+----------+</pre>"
      ],
      "text/plain": [
       "+--------------------------------+--------------------------------------------------+----------+"
      ]
     },
     "metadata": {},
     "output_type": "display_data"
    },
    {
     "data": {
      "text/html": [
       "<pre>| Parameter                      | Description                                      | Value    |</pre>"
      ],
      "text/plain": [
       "| Parameter                      | Description                                      | Value    |"
      ]
     },
     "metadata": {},
     "output_type": "display_data"
    },
    {
     "data": {
      "text/html": [
       "<pre>+--------------------------------+--------------------------------------------------+----------+</pre>"
      ],
      "text/plain": [
       "+--------------------------------+--------------------------------------------------+----------+"
      ]
     },
     "metadata": {},
     "output_type": "display_data"
    },
    {
     "data": {
      "text/html": [
       "<pre>| num_factors                    | Factor Dimension                                 | 8        |</pre>"
      ],
      "text/plain": [
       "| num_factors                    | Factor Dimension                                 | 8        |"
      ]
     },
     "metadata": {},
     "output_type": "display_data"
    },
    {
     "data": {
      "text/html": [
       "<pre>| regularization                 | L2 Regularization on Factors                     | 1e-08    |</pre>"
      ],
      "text/plain": [
       "| regularization                 | L2 Regularization on Factors                     | 1e-08    |"
      ]
     },
     "metadata": {},
     "output_type": "display_data"
    },
    {
     "data": {
      "text/html": [
       "<pre>| solver                         | Solver used for training                         | adagrad  |</pre>"
      ],
      "text/plain": [
       "| solver                         | Solver used for training                         | adagrad  |"
      ]
     },
     "metadata": {},
     "output_type": "display_data"
    },
    {
     "data": {
      "text/html": [
       "<pre>| linear_regularization          | L2 Regularization on Linear Coefficients         | 1e-10    |</pre>"
      ],
      "text/plain": [
       "| linear_regularization          | L2 Regularization on Linear Coefficients         | 1e-10    |"
      ]
     },
     "metadata": {},
     "output_type": "display_data"
    },
    {
     "data": {
      "text/html": [
       "<pre>| max_iterations                 | Maximum Number of Iterations                     | 50       |</pre>"
      ],
      "text/plain": [
       "| max_iterations                 | Maximum Number of Iterations                     | 50       |"
      ]
     },
     "metadata": {},
     "output_type": "display_data"
    },
    {
     "data": {
      "text/html": [
       "<pre>+--------------------------------+--------------------------------------------------+----------+</pre>"
      ],
      "text/plain": [
       "+--------------------------------+--------------------------------------------------+----------+"
      ]
     },
     "metadata": {},
     "output_type": "display_data"
    },
    {
     "data": {
      "text/html": [
       "<pre>  Optimizing model using SGD; tuning step size.</pre>"
      ],
      "text/plain": [
       "  Optimizing model using SGD; tuning step size."
      ]
     },
     "metadata": {},
     "output_type": "display_data"
    },
    {
     "data": {
      "text/html": [
       "<pre>  Using 10000 / 80000 points for tuning the step size.</pre>"
      ],
      "text/plain": [
       "  Using 10000 / 80000 points for tuning the step size."
      ]
     },
     "metadata": {},
     "output_type": "display_data"
    },
    {
     "data": {
      "text/html": [
       "<pre>+---------+-------------------+------------------------------------------+</pre>"
      ],
      "text/plain": [
       "+---------+-------------------+------------------------------------------+"
      ]
     },
     "metadata": {},
     "output_type": "display_data"
    },
    {
     "data": {
      "text/html": [
       "<pre>| Attempt | Initial Step Size | Estimated Objective Value                |</pre>"
      ],
      "text/plain": [
       "| Attempt | Initial Step Size | Estimated Objective Value                |"
      ]
     },
     "metadata": {},
     "output_type": "display_data"
    },
    {
     "data": {
      "text/html": [
       "<pre>+---------+-------------------+------------------------------------------+</pre>"
      ],
      "text/plain": [
       "+---------+-------------------+------------------------------------------+"
      ]
     },
     "metadata": {},
     "output_type": "display_data"
    },
    {
     "data": {
      "text/html": [
       "<pre>| 0       | 16.6667           | Not Viable                               |</pre>"
      ],
      "text/plain": [
       "| 0       | 16.6667           | Not Viable                               |"
      ]
     },
     "metadata": {},
     "output_type": "display_data"
    },
    {
     "data": {
      "text/html": [
       "<pre>| 1       | 4.16667           | Not Viable                               |</pre>"
      ],
      "text/plain": [
       "| 1       | 4.16667           | Not Viable                               |"
      ]
     },
     "metadata": {},
     "output_type": "display_data"
    },
    {
     "data": {
      "text/html": [
       "<pre>| 2       | 1.04167           | Not Viable                               |</pre>"
      ],
      "text/plain": [
       "| 2       | 1.04167           | Not Viable                               |"
      ]
     },
     "metadata": {},
     "output_type": "display_data"
    },
    {
     "data": {
      "text/html": [
       "<pre>| 3       | 0.260417          | 0.119703                                 |</pre>"
      ],
      "text/plain": [
       "| 3       | 0.260417          | 0.119703                                 |"
      ]
     },
     "metadata": {},
     "output_type": "display_data"
    },
    {
     "data": {
      "text/html": [
       "<pre>| 4       | 0.130208          | 0.164741                                 |</pre>"
      ],
      "text/plain": [
       "| 4       | 0.130208          | 0.164741                                 |"
      ]
     },
     "metadata": {},
     "output_type": "display_data"
    },
    {
     "data": {
      "text/html": [
       "<pre>| 5       | 0.0651042         | 0.365303                                 |</pre>"
      ],
      "text/plain": [
       "| 5       | 0.0651042         | 0.365303                                 |"
      ]
     },
     "metadata": {},
     "output_type": "display_data"
    },
    {
     "data": {
      "text/html": [
       "<pre>+---------+-------------------+------------------------------------------+</pre>"
      ],
      "text/plain": [
       "+---------+-------------------+------------------------------------------+"
      ]
     },
     "metadata": {},
     "output_type": "display_data"
    },
    {
     "data": {
      "text/html": [
       "<pre>| Final   | 0.260417          | 0.119703                                 |</pre>"
      ],
      "text/plain": [
       "| Final   | 0.260417          | 0.119703                                 |"
      ]
     },
     "metadata": {},
     "output_type": "display_data"
    },
    {
     "data": {
      "text/html": [
       "<pre>+---------+-------------------+------------------------------------------+</pre>"
      ],
      "text/plain": [
       "+---------+-------------------+------------------------------------------+"
      ]
     },
     "metadata": {},
     "output_type": "display_data"
    },
    {
     "data": {
      "text/html": [
       "<pre>Starting Optimization.</pre>"
      ],
      "text/plain": [
       "Starting Optimization."
      ]
     },
     "metadata": {},
     "output_type": "display_data"
    },
    {
     "data": {
      "text/html": [
       "<pre>+---------+--------------+-------------------+-----------------------+-------------+</pre>"
      ],
      "text/plain": [
       "+---------+--------------+-------------------+-----------------------+-------------+"
      ]
     },
     "metadata": {},
     "output_type": "display_data"
    },
    {
     "data": {
      "text/html": [
       "<pre>| Iter.   | Elapsed Time | Approx. Objective | Approx. Training RMSE | Step Size   |</pre>"
      ],
      "text/plain": [
       "| Iter.   | Elapsed Time | Approx. Objective | Approx. Training RMSE | Step Size   |"
      ]
     },
     "metadata": {},
     "output_type": "display_data"
    },
    {
     "data": {
      "text/html": [
       "<pre>+---------+--------------+-------------------+-----------------------+-------------+</pre>"
      ],
      "text/plain": [
       "+---------+--------------+-------------------+-----------------------+-------------+"
      ]
     },
     "metadata": {},
     "output_type": "display_data"
    },
    {
     "data": {
      "text/html": [
       "<pre>| Initial | 572us        | 1.25117           | 1.11856               |             |</pre>"
      ],
      "text/plain": [
       "| Initial | 572us        | 1.25117           | 1.11856               |             |"
      ]
     },
     "metadata": {},
     "output_type": "display_data"
    },
    {
     "data": {
      "text/html": [
       "<pre>+---------+--------------+-------------------+-----------------------+-------------+</pre>"
      ],
      "text/plain": [
       "+---------+--------------+-------------------+-----------------------+-------------+"
      ]
     },
     "metadata": {},
     "output_type": "display_data"
    },
    {
     "data": {
      "text/html": [
       "<pre>| 1       | 466.712ms    | 1.08718           | 1.04267               | 0.260417    |</pre>"
      ],
      "text/plain": [
       "| 1       | 466.712ms    | 1.08718           | 1.04267               | 0.260417    |"
      ]
     },
     "metadata": {},
     "output_type": "display_data"
    },
    {
     "data": {
      "text/html": [
       "<pre>| 2       | 926.376ms    | 0.787954          | 0.887654              | 0.260417    |</pre>"
      ],
      "text/plain": [
       "| 2       | 926.376ms    | 0.787954          | 0.887654              | 0.260417    |"
      ]
     },
     "metadata": {},
     "output_type": "display_data"
    },
    {
     "data": {
      "text/html": [
       "<pre>| 3       | 1.39s        | 0.707098          | 0.840875              | 0.260417    |</pre>"
      ],
      "text/plain": [
       "| 3       | 1.39s        | 0.707098          | 0.840875              | 0.260417    |"
      ]
     },
     "metadata": {},
     "output_type": "display_data"
    },
    {
     "data": {
      "text/html": [
       "<pre>| 4       | 1.86s        | 0.666231          | 0.816212              | 0.260417    |</pre>"
      ],
      "text/plain": [
       "| 4       | 1.86s        | 0.666231          | 0.816212              | 0.260417    |"
      ]
     },
     "metadata": {},
     "output_type": "display_data"
    },
    {
     "data": {
      "text/html": [
       "<pre>| 5       | 2.33s        | 0.638829          | 0.799249              | 0.260417    |</pre>"
      ],
      "text/plain": [
       "| 5       | 2.33s        | 0.638829          | 0.799249              | 0.260417    |"
      ]
     },
     "metadata": {},
     "output_type": "display_data"
    },
    {
     "data": {
      "text/html": [
       "<pre>| 6       | 2.78s        | 0.620325          | 0.787587              | 0.260417    |</pre>"
      ],
      "text/plain": [
       "| 6       | 2.78s        | 0.620325          | 0.787587              | 0.260417    |"
      ]
     },
     "metadata": {},
     "output_type": "display_data"
    },
    {
     "data": {
      "text/html": [
       "<pre>| 10      | 4.45s        | 0.578192          | 0.760366              | 0.260417    |</pre>"
      ],
      "text/plain": [
       "| 10      | 4.45s        | 0.578192          | 0.760366              | 0.260417    |"
      ]
     },
     "metadata": {},
     "output_type": "display_data"
    },
    {
     "data": {
      "text/html": [
       "<pre>| 11      | 4.71s        | 0.570999          | 0.755621              | 0.260417    |</pre>"
      ],
      "text/plain": [
       "| 11      | 4.71s        | 0.570999          | 0.755621              | 0.260417    |"
      ]
     },
     "metadata": {},
     "output_type": "display_data"
    },
    {
     "data": {
      "text/html": [
       "<pre>| 15      | 5.76s        | 0.553259          | 0.743788              | 0.260417    |</pre>"
      ],
      "text/plain": [
       "| 15      | 5.76s        | 0.553259          | 0.743788              | 0.260417    |"
      ]
     },
     "metadata": {},
     "output_type": "display_data"
    },
    {
     "data": {
      "text/html": [
       "<pre>| 20      | 7.47s        | 0.54024           | 0.734983              | 0.260417    |</pre>"
      ],
      "text/plain": [
       "| 20      | 7.47s        | 0.54024           | 0.734983              | 0.260417    |"
      ]
     },
     "metadata": {},
     "output_type": "display_data"
    },
    {
     "data": {
      "text/html": [
       "<pre>| 25      | 9.18s        | 0.530669          | 0.728442              | 0.260417    |</pre>"
      ],
      "text/plain": [
       "| 25      | 9.18s        | 0.530669          | 0.728442              | 0.260417    |"
      ]
     },
     "metadata": {},
     "output_type": "display_data"
    },
    {
     "data": {
      "text/html": [
       "<pre>| 30      | 10.78s       | 0.523663          | 0.723616              | 0.260417    |</pre>"
      ],
      "text/plain": [
       "| 30      | 10.78s       | 0.523663          | 0.723616              | 0.260417    |"
      ]
     },
     "metadata": {},
     "output_type": "display_data"
    },
    {
     "data": {
      "text/html": [
       "<pre>| 35      | 11.92s       | 0.518584          | 0.720097              | 0.260417    |</pre>"
      ],
      "text/plain": [
       "| 35      | 11.92s       | 0.518584          | 0.720097              | 0.260417    |"
      ]
     },
     "metadata": {},
     "output_type": "display_data"
    },
    {
     "data": {
      "text/html": [
       "<pre>| 40      | 12.95s       | 0.514532          | 0.717277              | 0.260417    |</pre>"
      ],
      "text/plain": [
       "| 40      | 12.95s       | 0.514532          | 0.717277              | 0.260417    |"
      ]
     },
     "metadata": {},
     "output_type": "display_data"
    },
    {
     "data": {
      "text/html": [
       "<pre>| 45      | 13.74s       | 0.511244          | 0.714981              | 0.260417    |</pre>"
      ],
      "text/plain": [
       "| 45      | 13.74s       | 0.511244          | 0.714981              | 0.260417    |"
      ]
     },
     "metadata": {},
     "output_type": "display_data"
    },
    {
     "data": {
      "text/html": [
       "<pre>| 50      | 14.74s       | 0.507852          | 0.712604              | 0.260417    |</pre>"
      ],
      "text/plain": [
       "| 50      | 14.74s       | 0.507852          | 0.712604              | 0.260417    |"
      ]
     },
     "metadata": {},
     "output_type": "display_data"
    },
    {
     "data": {
      "text/html": [
       "<pre>+---------+--------------+-------------------+-----------------------+-------------+</pre>"
      ],
      "text/plain": [
       "+---------+--------------+-------------------+-----------------------+-------------+"
      ]
     },
     "metadata": {},
     "output_type": "display_data"
    },
    {
     "data": {
      "text/html": [
       "<pre>Optimization Complete: Maximum number of passes through the data reached.</pre>"
      ],
      "text/plain": [
       "Optimization Complete: Maximum number of passes through the data reached."
      ]
     },
     "metadata": {},
     "output_type": "display_data"
    },
    {
     "data": {
      "text/html": [
       "<pre>Computing final objective value and training RMSE.</pre>"
      ],
      "text/plain": [
       "Computing final objective value and training RMSE."
      ]
     },
     "metadata": {},
     "output_type": "display_data"
    },
    {
     "data": {
      "text/html": [
       "<pre>       Final objective value: 0.477387</pre>"
      ],
      "text/plain": [
       "       Final objective value: 0.477387"
      ]
     },
     "metadata": {},
     "output_type": "display_data"
    },
    {
     "data": {
      "text/html": [
       "<pre>       Final training RMSE: 0.690898</pre>"
      ],
      "text/plain": [
       "       Final training RMSE: 0.690898"
      ]
     },
     "metadata": {},
     "output_type": "display_data"
    },
    {
     "data": {
      "text/html": [
       "<pre>Recsys training: model = popularity</pre>"
      ],
      "text/plain": [
       "Recsys training: model = popularity"
      ]
     },
     "metadata": {},
     "output_type": "display_data"
    },
    {
     "data": {
      "text/html": [
       "<pre>Warning: Ignoring columns title;</pre>"
      ],
      "text/plain": [
       "Warning: Ignoring columns title;"
      ]
     },
     "metadata": {},
     "output_type": "display_data"
    },
    {
     "data": {
      "text/html": [
       "<pre>    To use these columns in scoring predictions, use a model that allows the use of additional features.</pre>"
      ],
      "text/plain": [
       "    To use these columns in scoring predictions, use a model that allows the use of additional features."
      ]
     },
     "metadata": {},
     "output_type": "display_data"
    },
    {
     "data": {
      "text/html": [
       "<pre>Preparing data set.</pre>"
      ],
      "text/plain": [
       "Preparing data set."
      ]
     },
     "metadata": {},
     "output_type": "display_data"
    },
    {
     "data": {
      "text/html": [
       "<pre>    Data has 80000 observations with 1650 users and 943 items.</pre>"
      ],
      "text/plain": [
       "    Data has 80000 observations with 1650 users and 943 items."
      ]
     },
     "metadata": {},
     "output_type": "display_data"
    },
    {
     "data": {
      "text/html": [
       "<pre>    Data prepared in: 0.449436s</pre>"
      ],
      "text/plain": [
       "    Data prepared in: 0.449436s"
      ]
     },
     "metadata": {},
     "output_type": "display_data"
    },
    {
     "data": {
      "text/html": [
       "<pre>80000 observations to process; with 943 unique items.</pre>"
      ],
      "text/plain": [
       "80000 observations to process; with 943 unique items."
      ]
     },
     "metadata": {},
     "output_type": "display_data"
    }
   ],
   "source": [
    "ISF = tc.recommender.item_similarity_recommender.create(analysis, user_id='user_id', item_id='movie_id', target='rating')\n",
    "\n",
    "Factor = tc.recommender.factorization_recommender.create(analysis, user_id='user_id', item_id='movie_id', target='rating')\n",
    "\n",
    "POP = tc.recommender.popularity_recommender.create(analysis, user_id='user_id', item_id='movie_id', target='rating')\n",
    "\n",
    "\n",
    "\n",
    "\n"
   ]
  },
  {
   "cell_type": "markdown",
   "metadata": {},
   "source": [
    "### Get Top-K Recommendations for Three Models\n",
    "\n",
    "---\n",
    "\n",
    "Test your recommender models by finding top k=5 movies. Write your outcomes about the result of testing. <i>What are the scores of each recommendations?</i> <i>How are they accurate?</i> <i>Which model test results are the highest one?</i>"
   ]
  },
  {
   "cell_type": "code",
   "execution_count": 21,
   "metadata": {
    "scrolled": true
   },
   "outputs": [
    {
     "data": {
      "text/html": [
       "<pre>recommendations finished on 1000/1650 queries. users per second: 2191.33</pre>"
      ],
      "text/plain": [
       "recommendations finished on 1000/1650 queries. users per second: 2191.33"
      ]
     },
     "metadata": {},
     "output_type": "display_data"
    },
    {
     "data": {
      "text/html": [
       "<pre>recommendations finished on 1000/1650 queries. users per second: 1238.66</pre>"
      ],
      "text/plain": [
       "recommendations finished on 1000/1650 queries. users per second: 1238.66"
      ]
     },
     "metadata": {},
     "output_type": "display_data"
    },
    {
     "data": {
      "text/html": [
       "<pre>recommendations finished on 1000/1650 queries. users per second: 9273.26</pre>"
      ],
      "text/plain": [
       "recommendations finished on 1000/1650 queries. users per second: 9273.26"
      ]
     },
     "metadata": {},
     "output_type": "display_data"
    },
    {
     "name": "stdout",
     "output_type": "stream",
     "text": [
      "Item Similarity Filtering Model\n",
      "+---------+----------+-----------------+------+\n",
      "| user_id | movie_id |      score      | rank |\n",
      "+---------+----------+-----------------+------+\n",
      "|    1    |   551    | 0.0752465760739 |  1   |\n",
      "|    1    |   666    | 0.0687007809121 |  2   |\n",
      "|    1    |   474    | 0.0684538331106 |  3   |\n",
      "|    1    |   774    | 0.0626353159275 |  4   |\n",
      "|    1    |   846    | 0.0571808460176 |  5   |\n",
      "|    1    |   840    |  0.050485272476 |  6   |\n",
      "|    1    |   524    | 0.0485507741609 |  7   |\n",
      "|    1    |   834    | 0.0470196858399 |  8   |\n",
      "|    1    |   717    | 0.0461800959029 |  9   |\n",
      "|    1    |   758    | 0.0461531149189 |  10  |\n",
      "+---------+----------+-----------------+------+\n",
      "[10 rows x 4 columns]\n",
      "\n",
      "Factorization Recommenders Model\n",
      "+---------+----------+---------------+------+\n",
      "| user_id | movie_id |     score     | rank |\n",
      "+---------+----------+---------------+------+\n",
      "|    1    |   688    | 5.02465784988 |  1   |\n",
      "|    1    |   810    | 4.71197136185 |  2   |\n",
      "|    1    |   670    | 4.55335033379 |  3   |\n",
      "|    1    |   304    | 4.53455725937 |  4   |\n",
      "|    1    |   225    | 4.39985025368 |  5   |\n",
      "|    1    |   939    | 4.39615425906 |  6   |\n",
      "|    1    |   849    | 4.38551231167 |  7   |\n",
      "|    1    |   477    | 4.35898207567 |  8   |\n",
      "|    1    |   909    | 4.34385142169 |  9   |\n",
      "|    1    |   513    | 4.33441978387 |  10  |\n",
      "+---------+----------+---------------+------+\n",
      "[10 rows x 4 columns]\n",
      "\n",
      "Popularity Recommender Model\n",
      "+---------+----------+---------------+------+\n",
      "| user_id | movie_id |     score     | rank |\n",
      "+---------+----------+---------------+------+\n",
      "|    1    |   849    | 4.86956521739 |  1   |\n",
      "|    1    |   688    | 4.83333333333 |  2   |\n",
      "|    1    |   225    |      4.8      |  3   |\n",
      "|    1    |   507    | 4.72413793103 |  4   |\n",
      "|    1    |   628    |  4.7037037037 |  5   |\n",
      "|    1    |   928    |     4.6875    |  6   |\n",
      "|    1    |   118    | 4.64285714286 |  7   |\n",
      "|    1    |   427    | 4.58333333333 |  8   |\n",
      "|    1    |   686    | 4.56338028169 |  9   |\n",
      "|    1    |   136    |      4.55     |  10  |\n",
      "+---------+----------+---------------+------+\n",
      "[10 rows x 4 columns]\n",
      "\n"
     ]
    }
   ],
   "source": [
    "IR = ISF.recommend()\n",
    "FR = Factor.recommend()\n",
    "PR = POP.recommend()\n",
    "\n",
    "print \"Item Similarity Filtering Model\"\n",
    "print IR.head(10)\n",
    "print \"Factorization Recommenders Model\"\n",
    "print FR.head(10)\n",
    "print \"Popularity Recommender Model\"\n",
    "print PR.head(10)\n"
   ]
  },
  {
   "cell_type": "markdown",
   "metadata": {},
   "source": [
    "### Evaluate your model"
   ]
  },
  {
   "cell_type": "markdown",
   "metadata": {},
   "source": [
    "#### Step 1: Calculate RMSE Score for Three Models\n",
    "\n",
    "---\n",
    "\n",
    "**RMSE : Root Mean Squared Error**\n",
    "\n",
    "Write outcomes about rmse scores for each recommender model. Compare results in your report."
   ]
  },
  {
   "cell_type": "code",
   "execution_count": 25,
   "metadata": {
    "scrolled": true
   },
   "outputs": [
    {
     "name": "stdout",
     "output_type": "stream",
     "text": [
      "Similarity Error\n",
      "{'rmse_by_user': Columns:\n",
      "\tuser_id\tint\n",
      "\tcount\tint\n",
      "\trmse\tfloat\n",
      "\n",
      "Rows: 1410\n",
      "\n",
      "Data:\n",
      "+---------+-------+----------------+\n",
      "| user_id | count |      rmse      |\n",
      "+---------+-------+----------------+\n",
      "|   1270  |   1   |      2.0       |\n",
      "|   747   |   24  | 3.59341883985  |\n",
      "|   118   |   53  | 3.24834915438  |\n",
      "|   153   |   50  | 4.10190093684  |\n",
      "|   660   |   30  | 3.78132527381  |\n",
      "|   1236  |   1   |      3.0       |\n",
      "|   1379  |   1   | 0.937803934018 |\n",
      "|    92   |   23  | 3.69670310259  |\n",
      "|   264   |   17  | 2.63652328714  |\n",
      "|   690   |   25  | 3.57451625304  |\n",
      "+---------+-------+----------------+\n",
      "[1410 rows x 3 columns]\n",
      "Note: Only the head of the SFrame is printed.\n",
      "You can use print_rows(num_rows=m, num_columns=n) to print more rows and columns., 'rmse_by_item': Columns:\n",
      "\tmovie_id\tint\n",
      "\tcount\tint\n",
      "\trmse\tfloat\n",
      "\n",
      "Rows: 459\n",
      "\n",
      "Data:\n",
      "+----------+-------+---------------+\n",
      "| movie_id | count |      rmse     |\n",
      "+----------+-------+---------------+\n",
      "|   118    |   29  | 4.72959598454 |\n",
      "|   153    |   10  | 3.06454610908 |\n",
      "|    92    |  184  | 3.39034773531 |\n",
      "|   264    |   57  | 4.36677908631 |\n",
      "|   208    |   22  |  3.9656019376 |\n",
      "|   435    |   32  | 3.43039119617 |\n",
      "|   386    |   5   | 3.06097023907 |\n",
      "|    40    |   13  | 3.25173384701 |\n",
      "|   130    |  175  | 4.02181182049 |\n",
      "|    1     |  137  |  3.7515542512 |\n",
      "+----------+-------+---------------+\n",
      "[459 rows x 3 columns]\n",
      "Note: Only the head of the SFrame is printed.\n",
      "You can use print_rows(num_rows=m, num_columns=n) to print more rows and columns., 'rmse_overall': 3.7079154053134915}\n",
      "Factor Error\n",
      "{'rmse_by_user': Columns:\n",
      "\tuser_id\tint\n",
      "\tcount\tint\n",
      "\trmse\tfloat\n",
      "\n",
      "Rows: 1410\n",
      "\n",
      "Data:\n",
      "+---------+-------+----------------+\n",
      "| user_id | count |      rmse      |\n",
      "+---------+-------+----------------+\n",
      "|   1270  |   1   | 0.253564123726 |\n",
      "|   747   |   24  | 1.10706693525  |\n",
      "|   118   |   53  | 1.02880856902  |\n",
      "|   153   |   50  | 1.06830583932  |\n",
      "|   660   |   30  | 0.93445132817  |\n",
      "|   1236  |   1   | 0.26415789566  |\n",
      "|   1379  |   1   |  1.203789924   |\n",
      "|    92   |   23  | 0.945610413254 |\n",
      "|   264   |   17  | 0.746911961542 |\n",
      "|   690   |   25  | 1.15759792101  |\n",
      "+---------+-------+----------------+\n",
      "[1410 rows x 3 columns]\n",
      "Note: Only the head of the SFrame is printed.\n",
      "You can use print_rows(num_rows=m, num_columns=n) to print more rows and columns., 'rmse_by_item': Columns:\n",
      "\tmovie_id\tint\n",
      "\tcount\tint\n",
      "\trmse\tfloat\n",
      "\n",
      "Rows: 459\n",
      "\n",
      "Data:\n",
      "+----------+-------+----------------+\n",
      "| movie_id | count |      rmse      |\n",
      "+----------+-------+----------------+\n",
      "|   118    |   29  | 0.602791646226 |\n",
      "|   153    |   10  | 1.23717624054  |\n",
      "|    92    |  184  | 0.78283257451  |\n",
      "|   264    |   57  | 0.963827398218 |\n",
      "|   208    |   22  | 1.11072163178  |\n",
      "|   435    |   32  | 1.01707706669  |\n",
      "|   386    |   5   |  1.170578342   |\n",
      "|    40    |   13  | 1.41061601148  |\n",
      "|   130    |  175  | 0.999109185599 |\n",
      "|    1     |  137  | 1.06385886283  |\n",
      "+----------+-------+----------------+\n",
      "[459 rows x 3 columns]\n",
      "Note: Only the head of the SFrame is printed.\n",
      "You can use print_rows(num_rows=m, num_columns=n) to print more rows and columns., 'rmse_overall': 1.0811756273781987}\n",
      "Popularity Error\n",
      "{'rmse_by_user': Columns:\n",
      "\tuser_id\tint\n",
      "\tcount\tint\n",
      "\trmse\tfloat\n",
      "\n",
      "Rows: 1410\n",
      "\n",
      "Data:\n",
      "+---------+-------+-----------------+\n",
      "| user_id | count |       rmse      |\n",
      "+---------+-------+-----------------+\n",
      "|   1270  |   1   |  2.19047619048  |\n",
      "|   747   |   24  |  0.895055629097 |\n",
      "|   118   |   53  |  1.11930078227  |\n",
      "|   153   |   50  |  1.12214805797  |\n",
      "|   660   |   30  |  0.88684989515  |\n",
      "|   1236  |   1   | 0.0294117647059 |\n",
      "|   1379  |   1   |  0.518348623853 |\n",
      "|    92   |   23  |  0.802150879583 |\n",
      "|   264   |   17  |  1.22173127908  |\n",
      "|   690   |   25  |  1.12996686352  |\n",
      "+---------+-------+-----------------+\n",
      "[1410 rows x 3 columns]\n",
      "Note: Only the head of the SFrame is printed.\n",
      "You can use print_rows(num_rows=m, num_columns=n) to print more rows and columns., 'rmse_by_item': Columns:\n",
      "\tmovie_id\tint\n",
      "\tcount\tint\n",
      "\trmse\tfloat\n",
      "\n",
      "Rows: 459\n",
      "\n",
      "Data:\n",
      "+----------+-------+----------------+\n",
      "| movie_id | count |      rmse      |\n",
      "+----------+-------+----------------+\n",
      "|   118    |   29  | 0.650474844149 |\n",
      "|   153    |   10  | 1.27933044618  |\n",
      "|    92    |  184  | 0.965855031753 |\n",
      "|   264    |   57  | 1.03224073995  |\n",
      "|   208    |   22  | 1.07565086965  |\n",
      "|   435    |   32  | 1.03116143677  |\n",
      "|   386    |   5   | 1.04615698843  |\n",
      "|    40    |   13  | 0.963082041384 |\n",
      "|   130    |  175  | 1.04490964579  |\n",
      "|    1     |  137  | 1.25205195391  |\n",
      "+----------+-------+----------------+\n",
      "[459 rows x 3 columns]\n",
      "Note: Only the head of the SFrame is printed.\n",
      "You can use print_rows(num_rows=m, num_columns=n) to print more rows and columns., 'rmse_overall': 1.06299512765613}\n"
     ]
    }
   ],
   "source": [
    "IE = ISF.evaluate_rmse(analysisTest, target='rating')\n",
    "FE = Factor.evaluate_rmse(analysisTest, target='rating')\n",
    "PE = POP.evaluate_rmse(analysisTest, target='rating')\n",
    "\n",
    "print \"Similarity Error\"\n",
    "print IE\n",
    "print \"Factor Error\"\n",
    "print FE\n",
    "print \"Popularity Error\"\n",
    "print PE"
   ]
  },
  {
   "cell_type": "markdown",
   "metadata": {},
   "source": [
    "#### Step 2: Report Confusion Matrix Metrics, Precision and Recall\n",
    "\n",
    "---\n",
    "\n",
    "Precision and Recall are two metrices to evaluate the performance of recommender model. Compare and report all three recommender models according to their precision and recall scores."
   ]
  },
  {
   "cell_type": "code",
   "execution_count": 27,
   "metadata": {},
   "outputs": [
    {
     "data": {
      "text/html": [
       "<pre>recommendations finished on 1000/1410 queries. users per second: 2483.81</pre>"
      ],
      "text/plain": [
       "recommendations finished on 1000/1410 queries. users per second: 2483.81"
      ]
     },
     "metadata": {},
     "output_type": "display_data"
    },
    {
     "data": {
      "text/html": [
       "<pre>recommendations finished on 1000/1410 queries. users per second: 851.259</pre>"
      ],
      "text/plain": [
       "recommendations finished on 1000/1410 queries. users per second: 851.259"
      ]
     },
     "metadata": {},
     "output_type": "display_data"
    },
    {
     "data": {
      "text/html": [
       "<pre>recommendations finished on 1000/1410 queries. users per second: 7883.02</pre>"
      ],
      "text/plain": [
       "recommendations finished on 1000/1410 queries. users per second: 7883.02"
      ]
     },
     "metadata": {},
     "output_type": "display_data"
    },
    {
     "name": "stdout",
     "output_type": "stream",
     "text": [
      "Similarity Error\n",
      "{'precision_recall_overall': Columns:\n",
      "\tcutoff\tint\n",
      "\tprecision\tfloat\n",
      "\trecall\tfloat\n",
      "\n",
      "Rows: 18\n",
      "\n",
      "Data:\n",
      "+--------+-----------------+-------------------+\n",
      "| cutoff |    precision    |       recall      |\n",
      "+--------+-----------------+-------------------+\n",
      "|   1    | 0.0234042553191 | 0.000844448725825 |\n",
      "|   2    | 0.0177304964539 |  0.00149613389631 |\n",
      "|   3    | 0.0148936170213 |  0.00190569286835 |\n",
      "|   4    |  0.013829787234 |  0.0022446518634  |\n",
      "|   5    | 0.0139007092199 |  0.00292988831717 |\n",
      "|   6    | 0.0140661938534 |  0.00361504454762 |\n",
      "|   7    | 0.0149949341439 |  0.00484688836325 |\n",
      "|   8    | 0.0156914893617 |  0.00607990250303 |\n",
      "|   9    | 0.0156028368794 |   0.007277268783  |\n",
      "|   10   | 0.0151773049645 |  0.0087058249589  |\n",
      "+--------+-----------------+-------------------+\n",
      "[18 rows x 3 columns]\n",
      "Note: Only the head of the SFrame is printed.\n",
      "You can use print_rows(num_rows=m, num_columns=n) to print more rows and columns., 'precision_recall_by_user': Columns:\n",
      "\tuser_id\tint\n",
      "\tcutoff\tint\n",
      "\tprecision\tfloat\n",
      "\trecall\tfloat\n",
      "\tcount\tint\n",
      "\n",
      "Rows: 25380\n",
      "\n",
      "Data:\n",
      "+---------+--------+-----------+--------+-------+\n",
      "| user_id | cutoff | precision | recall | count |\n",
      "+---------+--------+-----------+--------+-------+\n",
      "|    1    |   1    |    0.0    |  0.0   |   69  |\n",
      "|    1    |   2    |    0.0    |  0.0   |   69  |\n",
      "|    1    |   3    |    0.0    |  0.0   |   69  |\n",
      "|    1    |   4    |    0.0    |  0.0   |   69  |\n",
      "|    1    |   5    |    0.0    |  0.0   |   69  |\n",
      "|    1    |   6    |    0.0    |  0.0   |   69  |\n",
      "|    1    |   7    |    0.0    |  0.0   |   69  |\n",
      "|    1    |   8    |    0.0    |  0.0   |   69  |\n",
      "|    1    |   9    |    0.0    |  0.0   |   69  |\n",
      "|    1    |   10   |    0.0    |  0.0   |   69  |\n",
      "+---------+--------+-----------+--------+-------+\n",
      "[25380 rows x 5 columns]\n",
      "Note: Only the head of the SFrame is printed.\n",
      "You can use print_rows(num_rows=m, num_columns=n) to print more rows and columns.}\n",
      "Factor Error\n",
      "{'precision_recall_overall': Columns:\n",
      "\tcutoff\tint\n",
      "\tprecision\tfloat\n",
      "\trecall\tfloat\n",
      "\n",
      "Rows: 18\n",
      "\n",
      "Data:\n",
      "+--------+------------------+-------------------+\n",
      "| cutoff |    precision     |       recall      |\n",
      "+--------+------------------+-------------------+\n",
      "|   1    |       0.0        |        0.0        |\n",
      "|   2    | 0.00106382978723 | 3.74754854038e-05 |\n",
      "|   3    | 0.00378250591017 | 0.000463711964067 |\n",
      "|   4    | 0.00620567375887 |  0.00163711470968 |\n",
      "|   5    | 0.00794326241135 |  0.00240336325885 |\n",
      "|   6    | 0.00898345153664 |  0.00341176354484 |\n",
      "|   7    | 0.00952380952381 |  0.00390195607498 |\n",
      "|   8    | 0.0102836879433  |  0.00464792739061 |\n",
      "|   9    |  0.010401891253  |  0.00534510213076 |\n",
      "|   10   | 0.0110638297872  |  0.00614751116379 |\n",
      "+--------+------------------+-------------------+\n",
      "[18 rows x 3 columns]\n",
      "Note: Only the head of the SFrame is printed.\n",
      "You can use print_rows(num_rows=m, num_columns=n) to print more rows and columns., 'precision_recall_by_user': Columns:\n",
      "\tuser_id\tint\n",
      "\tcutoff\tint\n",
      "\tprecision\tfloat\n",
      "\trecall\tfloat\n",
      "\tcount\tint\n",
      "\n",
      "Rows: 25380\n",
      "\n",
      "Data:\n",
      "+---------+--------+-----------+--------+-------+\n",
      "| user_id | cutoff | precision | recall | count |\n",
      "+---------+--------+-----------+--------+-------+\n",
      "|    1    |   1    |    0.0    |  0.0   |   69  |\n",
      "|    1    |   2    |    0.0    |  0.0   |   69  |\n",
      "|    1    |   3    |    0.0    |  0.0   |   69  |\n",
      "|    1    |   4    |    0.0    |  0.0   |   69  |\n",
      "|    1    |   5    |    0.0    |  0.0   |   69  |\n",
      "|    1    |   6    |    0.0    |  0.0   |   69  |\n",
      "|    1    |   7    |    0.0    |  0.0   |   69  |\n",
      "|    1    |   8    |    0.0    |  0.0   |   69  |\n",
      "|    1    |   9    |    0.0    |  0.0   |   69  |\n",
      "|    1    |   10   |    0.0    |  0.0   |   69  |\n",
      "+---------+--------+-----------+--------+-------+\n",
      "[25380 rows x 5 columns]\n",
      "Note: Only the head of the SFrame is printed.\n",
      "You can use print_rows(num_rows=m, num_columns=n) to print more rows and columns.}\n",
      "Popularity Error\n",
      "{'precision_recall_overall': Columns:\n",
      "\tcutoff\tint\n",
      "\tprecision\tfloat\n",
      "\trecall\tfloat\n",
      "\n",
      "Rows: 18\n",
      "\n",
      "Data:\n",
      "+--------+-------------------+-------------------+\n",
      "| cutoff |     precision     |       recall      |\n",
      "+--------+-------------------+-------------------+\n",
      "|   1    |        0.0        |        0.0        |\n",
      "|   2    | 0.000709219858156 | 2.59689089476e-05 |\n",
      "|   3    |  0.00283687943262 | 0.000933028865607 |\n",
      "|   4    |  0.00212765957447 | 0.000933028865607 |\n",
      "|   5    |  0.00184397163121 | 0.000946667709033 |\n",
      "|   6    |  0.00224586288416 |  0.00105075367045 |\n",
      "|   7    |  0.0047619047619  |  0.0022510092805  |\n",
      "|   8    |  0.00425531914894 |  0.00233966176277 |\n",
      "|   9    |  0.00425531914894 |  0.00240415927864 |\n",
      "|   10   |  0.00460992907801 |  0.0026146282145  |\n",
      "+--------+-------------------+-------------------+\n",
      "[18 rows x 3 columns]\n",
      "Note: Only the head of the SFrame is printed.\n",
      "You can use print_rows(num_rows=m, num_columns=n) to print more rows and columns., 'precision_recall_by_user': Columns:\n",
      "\tuser_id\tint\n",
      "\tcutoff\tint\n",
      "\tprecision\tfloat\n",
      "\trecall\tfloat\n",
      "\tcount\tint\n",
      "\n",
      "Rows: 25380\n",
      "\n",
      "Data:\n",
      "+---------+--------+-----------+--------+-------+\n",
      "| user_id | cutoff | precision | recall | count |\n",
      "+---------+--------+-----------+--------+-------+\n",
      "|    1    |   1    |    0.0    |  0.0   |   69  |\n",
      "|    1    |   2    |    0.0    |  0.0   |   69  |\n",
      "|    1    |   3    |    0.0    |  0.0   |   69  |\n",
      "|    1    |   4    |    0.0    |  0.0   |   69  |\n",
      "|    1    |   5    |    0.0    |  0.0   |   69  |\n",
      "|    1    |   6    |    0.0    |  0.0   |   69  |\n",
      "|    1    |   7    |    0.0    |  0.0   |   69  |\n",
      "|    1    |   8    |    0.0    |  0.0   |   69  |\n",
      "|    1    |   9    |    0.0    |  0.0   |   69  |\n",
      "|    1    |   10   |    0.0    |  0.0   |   69  |\n",
      "+---------+--------+-----------+--------+-------+\n",
      "[25380 rows x 5 columns]\n",
      "Note: Only the head of the SFrame is printed.\n",
      "You can use print_rows(num_rows=m, num_columns=n) to print more rows and columns.}\n"
     ]
    }
   ],
   "source": [
    "IEPR = ISF.evaluate_precision_recall(analysisTest)\n",
    "FEPR = Factor.evaluate_precision_recall(analysisTest)\n",
    "PEPR = POP.evaluate_precision_recall(analysisTest)\n",
    "\n",
    "print \"Similarity Error\"\n",
    "print IEPR\n",
    "print \"Factor Error\"\n",
    "print FEPR\n",
    "print \"Popularity Error\"\n",
    "print PEPR"
   ]
  },
  {
   "cell_type": "markdown",
   "metadata": {},
   "source": [
    "### Final Report\n",
    "\n",
    "---\n",
    "\n",
    "Summary the whole process. What did you understand? What kind of actions that may increase the accuracy of recommender models? Write some suggestions."
   ]
  },
  {
   "cell_type": "code",
   "execution_count": null,
   "metadata": {},
   "outputs": [],
   "source": []
  },
  {
   "cell_type": "markdown",
   "metadata": {},
   "source": [
    "## Submission\n",
    "\n",
    "---\n",
    "\n",
    "You need to submit your source code as .py file or .ipynb (ipython notebook). The report of your study should be in .pdf format. Take snapshots of the results that you get in each step of the project and explain your outcomes below of these snap."
   ]
  },
  {
   "cell_type": "code",
   "execution_count": null,
   "metadata": {},
   "outputs": [],
   "source": []
  },
  {
   "cell_type": "code",
   "execution_count": null,
   "metadata": {},
   "outputs": [],
   "source": []
  },
  {
   "cell_type": "code",
   "execution_count": null,
   "metadata": {},
   "outputs": [],
   "source": []
  }
 ],
 "metadata": {
  "kernelspec": {
   "display_name": "Python 2",
   "language": "python",
   "name": "python2"
  },
  "language_info": {
   "codemirror_mode": {
    "name": "ipython",
    "version": 2
   },
   "file_extension": ".py",
   "mimetype": "text/x-python",
   "name": "python",
   "nbconvert_exporter": "python",
   "pygments_lexer": "ipython2",
   "version": "2.7.14"
  }
 },
 "nbformat": 4,
 "nbformat_minor": 2
}
